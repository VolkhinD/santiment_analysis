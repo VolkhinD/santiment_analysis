{
  "cells": [
    {
      "cell_type": "markdown",
      "metadata": {
        "id": "view-in-github",
        "colab_type": "text"
      },
      "source": [
        "<a href=\"https://colab.research.google.com/github/VolkhinD/sentiment_analysis/blob/main/houses_all_data.ipynb\" target=\"_parent\"><img src=\"https://colab.research.google.com/assets/colab-badge.svg\" alt=\"Open In Colab\"/></a>"
      ]
    },
    {
      "cell_type": "markdown",
      "metadata": {
        "id": "7Ik3QE_FwzoK"
      },
      "source": [
        "# ***Basic Regression Model with Feature Selection Methods***"
      ]
    },
    {
      "cell_type": "markdown",
      "metadata": {
        "id": "tOCNwBl48jI2"
      },
      "source": [
        "# Begginning "
      ]
    },
    {
      "cell_type": "code",
      "execution_count": 1,
      "metadata": {
        "colab": {
          "base_uri": "https://localhost:8080/"
        },
        "id": "vDtrzu_XwzoT",
        "outputId": "ed7a6a68-0264-4f0b-e020-0727c8ebb742"
      },
      "outputs": [
        {
          "output_type": "stream",
          "name": "stdout",
          "text": [
            "Looking in indexes: https://pypi.org/simple, https://us-python.pkg.dev/colab-wheels/public/simple/\n",
            "Requirement already satisfied: xgboost in /usr/local/lib/python3.7/dist-packages (0.90)\n",
            "Requirement already satisfied: numpy in /usr/local/lib/python3.7/dist-packages (from xgboost) (1.21.6)\n",
            "Requirement already satisfied: scipy in /usr/local/lib/python3.7/dist-packages (from xgboost) (1.7.3)\n"
          ]
        }
      ],
      "source": [
        "import sys\n",
        "!{sys.executable} -m pip install xgboost"
      ]
    },
    {
      "cell_type": "code",
      "execution_count": 7,
      "metadata": {
        "id": "vCZasJHHwzoZ"
      },
      "outputs": [],
      "source": [
        "import pandas as pd\n",
        "import seaborn as sns\n",
        "import numpy as np\n",
        "import matplotlib.pyplot as plt\n",
        "import pickle\n",
        "%matplotlib inline\n",
        "from xgboost import XGBRegressor \n",
        "from sklearn.pipeline import Pipeline, make_pipeline\n",
        "from sklearn.preprocessing import StandardScaler\n",
        "from sklearn.metrics import mean_squared_log_error as MSLE, mean_absolute_error\n",
        "from sklearn.compose import make_column_transformer, make_column_selector as selector\n",
        "from sklearn.model_selection import cross_val_score, GridSearchCV\n",
        "from sklearn.preprocessing import RobustScaler, StandardScaler, OneHotEncoder, OrdinalEncoder\n",
        "from sklearn.decomposition import PCA\n",
        "from sklearn.feature_selection import SelectPercentile, f_regression\n",
        "from sklearn.impute import SimpleImputer\n",
        "from sklearn.linear_model import LinearRegression, Lasso\n",
        "from sklearn.feature_selection import SelectFromModel\n",
        "from sklearn.ensemble import RandomForestRegressor, AdaBoostRegressor\n",
        "from sklearn.feature_selection import RFE, SequentialFeatureSelector\n",
        "from sklearn.linear_model import RidgeCV\n",
        "from sklearn.multioutput import MultiOutputRegressor\n",
        "from sklearn.model_selection import train_test_split"
      ]
    },
    {
      "cell_type": "markdown",
      "metadata": {
        "id": "TdUHU9QSwzoa"
      },
      "source": [
        "Download Data"
      ]
    },
    {
      "cell_type": "code",
      "execution_count": 3,
      "metadata": {
        "colab": {
          "base_uri": "https://localhost:8080/"
        },
        "id": "8M1uuyXi1jkB",
        "outputId": "69805557-1ad0-4d86-ee69-1c745cabcc78"
      },
      "outputs": [
        {
          "output_type": "stream",
          "name": "stdout",
          "text": [
            "Mounted at /content/drive\n"
          ]
        }
      ],
      "source": [
        "from google.colab import drive\n",
        "drive.mount('/content/drive')"
      ]
    },
    {
      "cell_type": "code",
      "execution_count": 8,
      "metadata": {
        "colab": {
          "base_uri": "https://localhost:8080/"
        },
        "id": "Co-_O_Rxwzoa",
        "outputId": "95cb3a3b-1a97-467a-9886-1ffeb0e5d40d"
      },
      "outputs": [
        {
          "output_type": "stream",
          "name": "stdout",
          "text": [
            "(1453, 244) (1453, 73)\n"
          ]
        }
      ],
      "source": [
        "path_lin = '/content/drive/MyDrive/Data/houses/linear_data.csv'\n",
        "path_tree = '/content/drive/MyDrive/Data/houses/tree_data.csv'\n",
        "\n",
        "data_lin = pd.read_csv(path_lin, index_col=0)\n",
        "y_lin_standart = data_lin.drop('36', axis=1)\n",
        "data_lin = data_lin.drop('36', axis=1)\n",
        "mean = 180775.4273916036\n",
        "std = 79415.4391918568\n",
        "y_lin = (y_lin_standart*std + mean).astype(int)\n",
        "\n",
        "data_tree = pd.read_csv(path_tree, index_col=0)\n",
        "y_tree = data_tree['36'].astype(int)\n",
        "data_tree = data_tree.drop(['36'], axis=1)\n",
        "\n",
        "print(data_lin.shape, data_tree.shape)"
      ]
    },
    {
      "cell_type": "markdown",
      "metadata": {
        "id": "lSkBz4T94XZP"
      },
      "source": [
        "# Feature Selection"
      ]
    },
    {
      "cell_type": "markdown",
      "metadata": {
        "id": "Y_YuE4kBGOrJ"
      },
      "source": [
        "## **Model-based selection** \n",
        "\n"
      ]
    },
    {
      "cell_type": "code",
      "execution_count": 9,
      "metadata": {
        "id": "fxcEPF3KNqJ1"
      },
      "outputs": [],
      "source": [
        "chosen_data = {}"
      ]
    },
    {
      "cell_type": "code",
      "execution_count": 10,
      "metadata": {
        "colab": {
          "base_uri": "https://localhost:8080/"
        },
        "id": "SV2nUWosLgu7",
        "outputId": "4d440d15-0b23-4d16-fc9f-db065d60f055"
      },
      "outputs": [
        {
          "output_type": "stream",
          "name": "stdout",
          "text": [
            "[21:13:04] WARNING: /workspace/src/objective/regression_obj.cu:152: reg:linear is now deprecated in favor of reg:squarederror.\n",
            "[21:13:04] WARNING: /workspace/src/objective/regression_obj.cu:152: reg:linear is now deprecated in favor of reg:squarederror.\n",
            "Features selected by SelectFromModel: Index(['2', '7', '8', '9', '12', '14', '17', '21', '22', '24', '25', '35',\n",
            "       '69'],\n",
            "      dtype='object')\n"
          ]
        }
      ],
      "source": [
        "xgboost = XGBRegressor(random_state=1).fit(data_tree, y_tree)\n",
        "sfm_xgboost = SelectFromModel(xgboost, max_features=35).fit(data_tree, y_tree)\n",
        "feature_names_tree = data_tree.columns\n",
        "feat_xg = feature_names_tree[sfm_xgboost.get_support()]\n",
        "chosen_data[\"XGBoost Selected\"] = data_tree[feat_xg]\n",
        "print(f\"Features selected by SelectFromModel: {feat_xg}\")"
      ]
    },
    {
      "cell_type": "code",
      "execution_count": 23,
      "metadata": {
        "id": "1AxIpEcg5IH3"
      },
      "outputs": [],
      "source": [
        "# ridge = RidgeCV(alphas=np.logspace(-6, 6, num=5)).fit(data_lin, y_lin)\n",
        "# importance = np.abs(ridge.coef_)\n",
        "# feature_names = np.array(data_lin.columns)\n",
        "# plt.bar(height=importance, x=feature_names)\n",
        "# plt.title(\"Feature importances via coefficients\")\n",
        "# plt.show()\n"
      ]
    },
    {
      "cell_type": "code",
      "execution_count": 24,
      "metadata": {
        "id": "jfM_9kc0FYJd"
      },
      "outputs": [],
      "source": [
        "# threshold = np.sort(importance)[-150] + 0.01\n",
        "# sfm = SelectFromModel(ridge, threshold=threshold).fit(data_lin, y_lin)\n",
        "# feat_ridge = feature_names[sfm.get_support()]\n",
        "# chosen_data['Ridge Linear Features'] = data_lin[feat_ridge]\n",
        "# print(f\"Features selected by SelectFromModel: {feat_ridge}\")"
      ]
    },
    {
      "cell_type": "code",
      "execution_count": 25,
      "metadata": {
        "id": "7Vn2mwo-HIo7"
      },
      "outputs": [],
      "source": [
        "# lasso = Lasso(alpha=2).fit(data_lin, y_lin)\n",
        "# importance_l = np.abs(lasso.coef_)\n",
        "# feature_names = np.array(data_lin.columns)\n",
        "# plt.bar(height=importance_l, x=feature_names)\n",
        "# plt.title(\"Feature importances via coefficients\")\n",
        "# plt.show()"
      ]
    },
    {
      "cell_type": "code",
      "execution_count": null,
      "metadata": {
        "colab": {
          "base_uri": "https://localhost:8080/"
        },
        "id": "q5iZrfu1HaDO",
        "outputId": "00818ae8-a03b-4243-dff2-120678377fe9"
      },
      "outputs": [
        {
          "name": "stdout",
          "output_type": "stream",
          "text": [
            "Features selected by SelectFromModel: ['0' '1' '2' '3' '4' '6' '8' '9' '11' '12' '14' '15' '17' '19' '21' '24'\n",
            " '41' '42' '45' '46' '49' '53' '54' '56' '59' '60' '61' '65' '67' '68'\n",
            " '69' '70' '71' '72' '73' '74' '77' '78' '79' '80' '81' '82' '83' '84'\n",
            " '86' '88' '89' '91' '93' '96' '98' '99' '103' '104' '105' '107' '108'\n",
            " '109' '111' '112' '113' '114' '115' '116' '117' '119' '120' '121' '122'\n",
            " '124' '125' '128' '129' '130' '131' '133' '137' '138' '139' '141' '144'\n",
            " '145' '148' '150' '152' '153' '154' '156' '157' '158' '159' '161' '162'\n",
            " '164' '167' '168' '169' '175' '178' '180' '181' '187' '190' '192' '193'\n",
            " '196' '197' '199' '207' '208' '209' '210' '211' '212' '213' '214' '220'\n",
            " '222' '223' '226' '228' '230' '231' '232' '233' '235' '236' '238' '239'\n",
            " '240' '242']\n"
          ]
        }
      ],
      "source": [
        "# sfm_lasso = SelectFromModel(lasso, threshold=threshold).fit(data_lin, y_lin)\n",
        "# feat_lasso = feature_names[sfm_lasso.get_support()]\n",
        "# chosen_data[\"Lasso Linear Features\"] = data_lin[feat_lasso]\n",
        "# print(f\"Features selected by SelectFromModel: {feat_lasso}\")"
      ]
    },
    {
      "cell_type": "code",
      "execution_count": null,
      "metadata": {
        "colab": {
          "base_uri": "https://localhost:8080/",
          "height": 283
        },
        "id": "HQInwyhGH1z4",
        "outputId": "b7f8c865-811d-404f-de43-d97d565e133c"
      },
      "outputs": [
        {
          "data": {
            "text/plain": [
              "<BarContainer object of 73 artists>"
            ]
          },
          "execution_count": 70,
          "metadata": {},
          "output_type": "execute_result"
        },
        {
          "data": {
            "image/png": "[encoded data removed]",
            "text/plain": [
              "<Figure size 432x288 with 1 Axes>"
            ]
          },
          "metadata": {},
          "output_type": "display_data"
        }
      ],
      "source": [
        "forest = RandomForestRegressor(n_estimators=100, random_state=16)\n",
        "forest.fit(data_tree, y_tree)\n",
        "plt.bar(height=forest.feature_importances_, x=data_tree.columns)"
      ]
    },
    {
      "cell_type": "code",
      "execution_count": null,
      "metadata": {
        "colab": {
          "base_uri": "https://localhost:8080/"
        },
        "id": "D1jc6o0yI9Nn",
        "outputId": "0e1623f2-3095-43eb-ad68-da94aea48e2e"
      },
      "outputs": [
        {
          "name": "stdout",
          "output_type": "stream",
          "text": [
            "Features selected by SelectFromModel: Index(['2', '9', '12', '14', '15', '17', '24'], dtype='object')\n"
          ]
        }
      ],
      "source": [
        "sfm_tree = SelectFromModel(forest, max_features=10).fit(data_tree, y_tree)\n",
        "feature_names_tree = data_tree.columns\n",
        "feat_tree = feature_names_tree[sfm_tree.get_support()]\n",
        "chosen_data[\"Random Forest Tree Features\"] = data_tree[feat_tree]\n",
        "print(f\"Features selected by SelectFromModel: {feat_tree}\")"
      ]
    },
    {
      "cell_type": "markdown",
      "metadata": {
        "id": "964yGW87dSYq"
      },
      "source": [
        "Lasso and Ridge kept 99 features, Random Forst kept only 7"
      ]
    },
    {
      "cell_type": "markdown",
      "metadata": {
        "id": "NiPsQWsKGOvm"
      },
      "source": [
        "## **Iterative selection, with Sequential Feature Selection** \n",
        "\\\n",
        "There is one more implementation of this algorithm \"backward\" but it require more that 3 hours to complete.  \n"
      ]
    },
    {
      "cell_type": "code",
      "execution_count": null,
      "metadata": {
        "colab": {
          "base_uri": "https://localhost:8080/"
        },
        "id": "QS821pnWK2ku",
        "outputId": "d5c879c3-f7f9-46f1-b630-66e00b854811"
      },
      "outputs": [
        {
          "name": "stdout",
          "output_type": "stream",
          "text": [
            "CPU times: user 21min 34s, sys: 14min 42s, total: 36min 17s\n",
            "Wall time: 20min 40s\n"
          ]
        }
      ],
      "source": [
        "%%time\n",
        "sfs_forward_ridge = SequentialFeatureSelector(ridge, n_features_to_select=100, direction=\"forward\").fit(data_lin, y_lin)\n",
        "sfs_forward_tree = SequentialFeatureSelector(AdaBoostRegressor(), n_features_to_select=30, direction=\"forward\").fit(data_tree, y_tree)\n"
      ]
    },
    {
      "cell_type": "code",
      "execution_count": null,
      "metadata": {
        "id": "c2-QWgctNaGS"
      },
      "outputs": [],
      "source": [
        "%%capture\n",
        "sfs_forward_xgb = SequentialFeatureSelector(XGBRegressor(random_state=1), n_features_to_select=30, direction=\"forward\").fit(data_tree, y_tree)"
      ]
    },
    {
      "cell_type": "code",
      "execution_count": null,
      "metadata": {
        "id": "1BbUQPv-Mu0W"
      },
      "outputs": [],
      "source": [
        "%%capture\n",
        "sfs_backward_xgb = SequentialFeatureSelector(XGBRegressor(random_state=1),\n",
        "                                             n_features_to_select=30, direction=\"backward\").fit(data_tree, y_tree)"
      ]
    },
    {
      "cell_type": "code",
      "execution_count": null,
      "metadata": {
        "id": "qHyvyvmJNRpe"
      },
      "outputs": [],
      "source": [
        "feat_sfs_forward_ridge = feature_names[sfs_forward_ridge.get_support()]\n",
        "feat_sfs_forward_tree = feature_names_tree[sfs_forward_tree.get_support()]\n",
        "\n",
        "feat_sfs_forward_xgb = feature_names_tree[sfs_forward_tree.get_support()]\n",
        "feat_sfs_backward_xgb = feature_names_tree[sfs_forward_tree.get_support()]"
      ]
    },
    {
      "cell_type": "code",
      "execution_count": null,
      "metadata": {
        "id": "WZoMqyAbnkHG"
      },
      "outputs": [],
      "source": [
        "path = '/content/drive/MyDrive/Data/houses/'\n",
        "data_lin[feat_sfs_forward_ridge].to_csv(path + 'sfs_forward_linear.csv')\n",
        "data_tree[feat_sfs_forward_tree].to_csv(path + 'sfs_forward_tree.csv')\n",
        "\n",
        "data_tree[feat_sfs_forward_xgb].to_csv(path + 'sfs_forward_xgb.csv')\n",
        "data_tree[feat_sfs_backward_xgb].to_csv(path + 'sfs_backward_xgb.csv')\n"
      ]
    },
    {
      "cell_type": "code",
      "execution_count": null,
      "metadata": {
        "id": "u06mByxmolh-"
      },
      "outputs": [],
      "source": [
        "chosen_data[\"SFS forward Linear\"] = pd.read_csv(path + 'sfs_forward_linear.csv')\n",
        "chosen_data[\"SFS forward Tree\"] = pd.read_csv(path + 'sfs_forward_tree.csv')\n",
        "\n",
        "chosen_data[\"SFS forward XGB\"] = pd.read_csv(path + 'sfs_forward_xgb.csv')\n",
        "chosen_data[\"SFS backward XGB\"] = pd.read_csv(path + 'sfs_backward_xgb.csv')\n"
      ]
    },
    {
      "cell_type": "markdown",
      "metadata": {
        "id": "R2yGDZPMWoC3"
      },
      "source": [
        "## **Iterative selection, Recursive Feature Elimination, RFE**\n"
      ]
    },
    {
      "cell_type": "code",
      "execution_count": null,
      "metadata": {
        "id": "Mjfb1mPyWo9E"
      },
      "outputs": [],
      "source": [
        "%%time\n",
        "selector = RFE(RandomForestRegressor(n_estimators=100, random_state=32), n_features_to_select=30).fit(data_tree, y_tree)\n",
        "data_rfe_forest = pd.DataFrame(selector.transform(data_tree))\n",
        "chosen_data[\"RFE Random Forest Tree\"] = data_rfe_forest\n",
        "\n",
        "\n",
        "selector2 = RFE(ridge, n_features_to_select=100).fit(data_lin, y_lin)\n",
        "data_rfe_lin = pd.DataFrame(selector2.transform(data_lin))\n",
        "chosen_data[\"RFE Linear Regression\"] = data_rfe_lin\n",
        "\n",
        "selector3 = RFE(XGBRegressor(random_state=1),n_features_to_select=30).fit(data_tree, y_tree)\n",
        "data_rfe_xgb = pd.DataFrame(selector3.transform(data_tree))\n",
        "chosen_data[\"RFE XGBoost\"] = data_rfe_xgb\n"
      ]
    },
    {
      "cell_type": "markdown",
      "metadata": {
        "id": "q80HU8aJhCWZ"
      },
      "source": [
        "# Models with new Data"
      ]
    },
    {
      "cell_type": "code",
      "execution_count": null,
      "metadata": {
        "id": "rbnmCbbPhF2U"
      },
      "outputs": [],
      "source": [
        "scores = {'neg_mean_absolute_error': []}\n",
        "index = []"
      ]
    },
    {
      "cell_type": "code",
      "execution_count": null,
      "metadata": {
        "id": "Ylc41_hjhuat"
      },
      "outputs": [],
      "source": [
        "for name, data in chosen_data.items():\n",
        "  if 'Linear' in name:\n",
        "    result = cross_val_score(Lasso(), X=data, y=y_lin, cv=5, scoring='neg_mean_absolute_error')\n",
        "    index += [name + ' + Lasso']\n",
        "    scores['neg_mean_absolute_error'].append(result.mean())\n",
        "    result = cross_val_score(RidgeCV(alphas=np.logspace(-6, 6, num=5)), X=data, y=y_lin, cv=5, scoring='neg_mean_absolute_error')\n",
        "    index += [name + ' + Ridge']\n",
        "    scores['neg_mean_absolute_error'].append(result.mean())\n",
        "    result = cross_val_score(XGBRegressor(random_state=1), X=data, y=y_lin, cv=5, scoring='neg_mean_absolute_error')\n",
        "    index += [name + ' + XGBRegressor']\n",
        "    scores['neg_mean_absolute_error'].append(result.mean())\n",
        "    \n",
        "  else:\n",
        "    result = cross_val_score(RandomForestRegressor(n_estimators=100, random_state=1), X=data, y=y_tree, cv=5, scoring='neg_mean_absolute_error')\n",
        "    index += [name + ' + Random Forest']\n",
        "    scores['neg_mean_absolute_error'].append(result.mean())\n",
        "    result = cross_val_score(XGBRegressor(random_state=1), X=data, y=y_tree, cv=5, scoring='neg_mean_absolute_error')\n",
        "    index += [name + ' + XGBRegressor']\n",
        "    scores['neg_mean_absolute_error'].append(result.mean())\n",
        "result = cross_val_score(RidgeCV(alphas=np.logspace(-6, 6, num=5)), X=data_lin, y=y_lin, cv=5, scoring='neg_mean_absolute_error')\n",
        "index += ['Full Data + Ridge']\n",
        "scores['neg_mean_absolute_error'].append(result.mean())\n",
        "result = cross_val_score(Lasso(), X=data_lin, y=y_lin, cv=5, scoring='neg_mean_absolute_error')\n",
        "index += [name + ' + Lasso']\n",
        "scores['neg_mean_absolute_error'].append(result.mean())\n",
        "result = cross_val_score(RandomForestRegressor(n_estimators=100, random_state=1), X=data_tree, y=y_tree, cv=5, scoring='neg_mean_absolute_error')\n",
        "index += ['Full Data + Random Forest']\n",
        "scores['neg_mean_absolute_error'].append(result.mean())\n",
        "result = cross_val_score(XGBRegressor(random_state=1), X=data_tree, y=y_tree, cv=5, scoring='neg_mean_absolute_error')\n",
        "index += ['Full Data + XGBRegressor']\n",
        "scores['neg_mean_absolute_error'].append(result.mean())\n"
      ]
    },
    {
      "cell_type": "code",
      "execution_count": null,
      "metadata": {
        "colab": {
          "base_uri": "https://localhost:8080/",
          "height": 990
        },
        "id": "B5jFsdRO1OQb",
        "outputId": "00b0ce8d-4099-4a02-daaf-e63395613926"
      },
      "outputs": [
        {
          "data": {
            "text/html": [
              "\n",
              "  <div id=\"df-e5b6e5c6-d3b9-442c-9987-d4bc831f7a4b\">\n",
              "    <div class=\"colab-df-container\">\n",
              "      <div>\n",
              "<style scoped>\n",
              "    .dataframe tbody tr th:only-of-type {\n",
              "        vertical-align: middle;\n",
              "    }\n",
              "\n",
              "    .dataframe tbody tr th {\n",
              "        vertical-align: top;\n",
              "    }\n",
              "\n",
              "    .dataframe thead th {\n",
              "        text-align: right;\n",
              "    }\n",
              "</style>\n",
              "<table border=\"1\" class=\"dataframe\">\n",
              "  <thead>\n",
              "    <tr style=\"text-align: right;\">\n",
              "      <th></th>\n",
              "      <th>neg_mean_absolute_error</th>\n",
              "    </tr>\n",
              "  </thead>\n",
              "  <tbody>\n",
              "    <tr>\n",
              "      <th>SFS forward Linear + Lasso</th>\n",
              "      <td>-16414.142146</td>\n",
              "    </tr>\n",
              "    <tr>\n",
              "      <th>SFS forward Linear + Ridge</th>\n",
              "      <td>-16372.360677</td>\n",
              "    </tr>\n",
              "    <tr>\n",
              "      <th>SFS forward Linear + XGBRegressor</th>\n",
              "      <td>-15466.751944</td>\n",
              "    </tr>\n",
              "    <tr>\n",
              "      <th>SFS forward Tree + Random Forest</th>\n",
              "      <td>-17119.008016</td>\n",
              "    </tr>\n",
              "    <tr>\n",
              "      <th>SFS forward Tree + XGBRegressor</th>\n",
              "      <td>-16030.969537</td>\n",
              "    </tr>\n",
              "    <tr>\n",
              "      <th>RFE Random Forest Tree + Random Forest</th>\n",
              "      <td>-16530.986324</td>\n",
              "    </tr>\n",
              "    <tr>\n",
              "      <th>RFE Random Forest Tree + XGBRegressor</th>\n",
              "      <td>-15723.656655</td>\n",
              "    </tr>\n",
              "    <tr>\n",
              "      <th>RFE Linear Regression + Lasso</th>\n",
              "      <td>-17421.441605</td>\n",
              "    </tr>\n",
              "    <tr>\n",
              "      <th>RFE Linear Regression + Ridge</th>\n",
              "      <td>-17335.920363</td>\n",
              "    </tr>\n",
              "    <tr>\n",
              "      <th>RFE Linear Regression + XGBRegressor</th>\n",
              "      <td>-15843.621777</td>\n",
              "    </tr>\n",
              "    <tr>\n",
              "      <th>Ridge Linear Features + Lasso</th>\n",
              "      <td>-17577.430073</td>\n",
              "    </tr>\n",
              "    <tr>\n",
              "      <th>Ridge Linear Features + Ridge</th>\n",
              "      <td>-17351.324868</td>\n",
              "    </tr>\n",
              "    <tr>\n",
              "      <th>Ridge Linear Features + XGBRegressor</th>\n",
              "      <td>-15642.870394</td>\n",
              "    </tr>\n",
              "    <tr>\n",
              "      <th>Lasso Linear Features + Lasso</th>\n",
              "      <td>-17413.778350</td>\n",
              "    </tr>\n",
              "    <tr>\n",
              "      <th>Lasso Linear Features + Ridge</th>\n",
              "      <td>-17178.663555</td>\n",
              "    </tr>\n",
              "    <tr>\n",
              "      <th>Lasso Linear Features + XGBRegressor</th>\n",
              "      <td>-15481.976884</td>\n",
              "    </tr>\n",
              "    <tr>\n",
              "      <th>Random Forest Tree Features + Random Forest</th>\n",
              "      <td>-19651.023948</td>\n",
              "    </tr>\n",
              "    <tr>\n",
              "      <th>Random Forest Tree Features + XGBRegressor</th>\n",
              "      <td>-19465.366928</td>\n",
              "    </tr>\n",
              "    <tr>\n",
              "      <th>XGBoost Selected + Random Forest</th>\n",
              "      <td>-17845.963900</td>\n",
              "    </tr>\n",
              "    <tr>\n",
              "      <th>XGBoost Selected + XGBRegressor</th>\n",
              "      <td>-17583.525112</td>\n",
              "    </tr>\n",
              "    <tr>\n",
              "      <th>SFS forward XGB + Random Forest</th>\n",
              "      <td>-17119.008016</td>\n",
              "    </tr>\n",
              "    <tr>\n",
              "      <th>SFS forward XGB + XGBRegressor</th>\n",
              "      <td>-16030.969537</td>\n",
              "    </tr>\n",
              "    <tr>\n",
              "      <th>SFS backward XGB + Random Forest</th>\n",
              "      <td>-17119.008016</td>\n",
              "    </tr>\n",
              "    <tr>\n",
              "      <th>SFS backward XGB + XGBRegressor</th>\n",
              "      <td>-16030.969537</td>\n",
              "    </tr>\n",
              "    <tr>\n",
              "      <th>RFE XGBoost + Random Forest</th>\n",
              "      <td>-16424.917408</td>\n",
              "    </tr>\n",
              "    <tr>\n",
              "      <th>RFE XGBoost + XGBRegressor</th>\n",
              "      <td>-15348.594810</td>\n",
              "    </tr>\n",
              "    <tr>\n",
              "      <th>Full Data + Ridge</th>\n",
              "      <td>-18183.162013</td>\n",
              "    </tr>\n",
              "    <tr>\n",
              "      <th>RFE XGBoost + Lasso</th>\n",
              "      <td>-18545.029158</td>\n",
              "    </tr>\n",
              "    <tr>\n",
              "      <th>Full Data + Random Forest</th>\n",
              "      <td>-16614.436847</td>\n",
              "    </tr>\n",
              "    <tr>\n",
              "      <th>Full Data + XGBRegressor</th>\n",
              "      <td>-15568.732597</td>\n",
              "    </tr>\n",
              "  </tbody>\n",
              "</table>\n",
              "</div>\n",
              "      <button class=\"colab-df-convert\" onclick=\"convertToInteractive('df-e5b6e5c6-d3b9-442c-9987-d4bc831f7a4b')\"\n",
              "              title=\"Convert this dataframe to an interactive table.\"\n",
              "              style=\"display:none;\">\n",
              "        \n",
              "  <svg xmlns=\"http://www.w3.org/2000/svg\" height=\"24px\"viewBox=\"0 0 24 24\"\n",
              "       width=\"24px\">\n",
              "    <path d=\"M0 0h24v24H0V0z\" fill=\"none\"/>\n",
              "    <path d=\"M18.56 5.44l.94 2.06.94-2.06 2.06-.94-2.06-.94-.94-2.06-.94 2.06-2.06.94zm-11 1L8.5 8.5l.94-2.06 2.06-.94-2.06-.94L8.5 2.5l-.94 2.06-2.06.94zm10 10l.94 2.06.94-2.06 2.06-.94-2.06-.94-.94-2.06-.94 2.06-2.06.94z\"/><path d=\"M17.41 7.96l-1.37-1.37c-.4-.4-.92-.59-1.43-.59-.52 0-1.04.2-1.43.59L10.3 9.45l-7.72 7.72c-.78.78-.78 2.05 0 2.83L4 21.41c.39.39.9.59 1.41.59.51 0 1.02-.2 1.41-.59l7.78-7.78 2.81-2.81c.8-.78.8-2.07 0-2.86zM5.41 20L4 18.59l7.72-7.72 1.47 1.35L5.41 20z\"/>\n",
              "  </svg>\n",
              "      </button>\n",
              "      \n",
              "  <style>\n",
              "    .colab-df-container {\n",
              "      display:flex;\n",
              "      flex-wrap:wrap;\n",
              "      gap: 12px;\n",
              "    }\n",
              "\n",
              "    .colab-df-convert {\n",
              "      background-color: #E8F0FE;\n",
              "      border: none;\n",
              "      border-radius: 50%;\n",
              "      cursor: pointer;\n",
              "      display: none;\n",
              "      fill: #1967D2;\n",
              "      height: 32px;\n",
              "      padding: 0 0 0 0;\n",
              "      width: 32px;\n",
              "    }\n",
              "\n",
              "    .colab-df-convert:hover {\n",
              "      background-color: #E2EBFA;\n",
              "      box-shadow: 0px 1px 2px rgba(60, 64, 67, 0.3), 0px 1px 3px 1px rgba(60, 64, 67, 0.15);\n",
              "      fill: #174EA6;\n",
              "    }\n",
              "\n",
              "    [theme=dark] .colab-df-convert {\n",
              "      background-color: #3B4455;\n",
              "      fill: #D2E3FC;\n",
              "    }\n",
              "\n",
              "    [theme=dark] .colab-df-convert:hover {\n",
              "      background-color: #434B5C;\n",
              "      box-shadow: 0px 1px 3px 1px rgba(0, 0, 0, 0.15);\n",
              "      filter: drop-shadow(0px 1px 2px rgba(0, 0, 0, 0.3));\n",
              "      fill: #FFFFFF;\n",
              "    }\n",
              "  </style>\n",
              "\n",
              "      <script>\n",
              "        const buttonEl =\n",
              "          document.querySelector('#df-e5b6e5c6-d3b9-442c-9987-d4bc831f7a4b button.colab-df-convert');\n",
              "        buttonEl.style.display =\n",
              "          google.colab.kernel.accessAllowed ? 'block' : 'none';\n",
              "\n",
              "        async function convertToInteractive(key) {\n",
              "          const element = document.querySelector('#df-e5b6e5c6-d3b9-442c-9987-d4bc831f7a4b');\n",
              "          const dataTable =\n",
              "            await google.colab.kernel.invokeFunction('convertToInteractive',\n",
              "                                                     [key], {});\n",
              "          if (!dataTable) return;\n",
              "\n",
              "          const docLinkHtml = 'Like what you see? Visit the ' +\n",
              "            '<a target=\"_blank\" href=https://colab.research.google.com/notebooks/data_table.ipynb>data table notebook</a>'\n",
              "            + ' to learn more about interactive tables.';\n",
              "          element.innerHTML = '';\n",
              "          dataTable['output_type'] = 'display_data';\n",
              "          await google.colab.output.renderOutput(dataTable, element);\n",
              "          const docLink = document.createElement('div');\n",
              "          docLink.innerHTML = docLinkHtml;\n",
              "          element.appendChild(docLink);\n",
              "        }\n",
              "      </script>\n",
              "    </div>\n",
              "  </div>\n",
              "  "
            ],
            "text/plain": [
              "                                             neg_mean_absolute_error\n",
              "SFS forward Linear + Lasso                             -16414.142146\n",
              "SFS forward Linear + Ridge                             -16372.360677\n",
              "SFS forward Linear + XGBRegressor                      -15466.751944\n",
              "SFS forward Tree + Random Forest                       -17119.008016\n",
              "SFS forward Tree + XGBRegressor                        -16030.969537\n",
              "RFE Random Forest Tree + Random Forest                 -16530.986324\n",
              "RFE Random Forest Tree + XGBRegressor                  -15723.656655\n",
              "RFE Linear Regression + Lasso                          -17421.441605\n",
              "RFE Linear Regression + Ridge                          -17335.920363\n",
              "RFE Linear Regression + XGBRegressor                   -15843.621777\n",
              "Ridge Linear Features + Lasso                          -17577.430073\n",
              "Ridge Linear Features + Ridge                          -17351.324868\n",
              "Ridge Linear Features + XGBRegressor                   -15642.870394\n",
              "Lasso Linear Features + Lasso                          -17413.778350\n",
              "Lasso Linear Features + Ridge                          -17178.663555\n",
              "Lasso Linear Features + XGBRegressor                   -15481.976884\n",
              "Random Forest Tree Features + Random Forest            -19651.023948\n",
              "Random Forest Tree Features + XGBRegressor             -19465.366928\n",
              "XGBoost Selected + Random Forest                       -17845.963900\n",
              "XGBoost Selected + XGBRegressor                        -17583.525112\n",
              "SFS forward XGB + Random Forest                        -17119.008016\n",
              "SFS forward XGB + XGBRegressor                         -16030.969537\n",
              "SFS backward XGB + Random Forest                       -17119.008016\n",
              "SFS backward XGB + XGBRegressor                        -16030.969537\n",
              "RFE XGBoost + Random Forest                            -16424.917408\n",
              "RFE XGBoost + XGBRegressor                             -15348.594810\n",
              "Full Data + Ridge                                      -18183.162013\n",
              "RFE XGBoost + Lasso                                    -18545.029158\n",
              "Full Data + Random Forest                              -16614.436847\n",
              "Full Data + XGBRegressor                               -15568.732597"
            ]
          },
          "execution_count": 200,
          "metadata": {},
          "output_type": "execute_result"
        }
      ],
      "source": [
        "df_scores = pd.DataFrame(scores, index=index)\n",
        "df_scores"
      ]
    },
    {
      "cell_type": "markdown",
      "metadata": {
        "id": "3HZKuuuT2xfF"
      },
      "source": [
        "The best estimator is XGBoost "
      ]
    },
    {
      "cell_type": "markdown",
      "metadata": {
        "id": "4G03c10VrKV1"
      },
      "source": [
        "# PCA + Models"
      ]
    },
    {
      "cell_type": "code",
      "execution_count": null,
      "metadata": {
        "id": "ndGbgqTRrMm9"
      },
      "outputs": [],
      "source": [
        "scores = {'neg_mean_absolute_error': []}\n",
        "index = []\n",
        "n_comp = [50, 75, 100, 125, 150]\n",
        "for n in n_comp:\n",
        "  pipe = make_pipeline(PCA(n_components=n), XGBRegressor(random_state=1))\n",
        "  result = cross_val_score(pipe, X=data_lin, y=y_lin, cv=5, scoring='neg_mean_absolute_error')\n",
        "  index += [f'PCA with {n} components + XGBRegressor Linear ' + name]\n",
        "  scores['neg_mean_absolute_error'].append(result.mean())\n"
      ]
    },
    {
      "cell_type": "code",
      "execution_count": null,
      "metadata": {
        "colab": {
          "base_uri": "https://localhost:8080/",
          "height": 206
        },
        "id": "MY5KyyH01PLd",
        "outputId": "3d0a7439-453e-488a-b7d2-ae423f6485fe"
      },
      "outputs": [
        {
          "data": {
            "text/html": [
              "\n",
              "  <div id=\"df-07fd0c9c-f343-42f2-a766-d2389f8f8883\">\n",
              "    <div class=\"colab-df-container\">\n",
              "      <div>\n",
              "<style scoped>\n",
              "    .dataframe tbody tr th:only-of-type {\n",
              "        vertical-align: middle;\n",
              "    }\n",
              "\n",
              "    .dataframe tbody tr th {\n",
              "        vertical-align: top;\n",
              "    }\n",
              "\n",
              "    .dataframe thead th {\n",
              "        text-align: right;\n",
              "    }\n",
              "</style>\n",
              "<table border=\"1\" class=\"dataframe\">\n",
              "  <thead>\n",
              "    <tr style=\"text-align: right;\">\n",
              "      <th></th>\n",
              "      <th>neg_mean_absolute_error</th>\n",
              "    </tr>\n",
              "  </thead>\n",
              "  <tbody>\n",
              "    <tr>\n",
              "      <th>PCA with 50 components + XGBRegressor Linear Random Forest Tree Features</th>\n",
              "      <td>-16177.632845</td>\n",
              "    </tr>\n",
              "    <tr>\n",
              "      <th>PCA with 75 components + XGBRegressor Linear Random Forest Tree Features</th>\n",
              "      <td>-16041.683604</td>\n",
              "    </tr>\n",
              "    <tr>\n",
              "      <th>PCA with 100 components + XGBRegressor Linear Random Forest Tree Features</th>\n",
              "      <td>-16047.096073</td>\n",
              "    </tr>\n",
              "    <tr>\n",
              "      <th>PCA with 125 components + XGBRegressor Linear Random Forest Tree Features</th>\n",
              "      <td>-15953.465203</td>\n",
              "    </tr>\n",
              "    <tr>\n",
              "      <th>PCA with 150 components + XGBRegressor Linear Random Forest Tree Features</th>\n",
              "      <td>-16090.970181</td>\n",
              "    </tr>\n",
              "  </tbody>\n",
              "</table>\n",
              "</div>\n",
              "      <button class=\"colab-df-convert\" onclick=\"convertToInteractive('df-07fd0c9c-f343-42f2-a766-d2389f8f8883')\"\n",
              "              title=\"Convert this dataframe to an interactive table.\"\n",
              "              style=\"display:none;\">\n",
              "        \n",
              "  <svg xmlns=\"http://www.w3.org/2000/svg\" height=\"24px\"viewBox=\"0 0 24 24\"\n",
              "       width=\"24px\">\n",
              "    <path d=\"M0 0h24v24H0V0z\" fill=\"none\"/>\n",
              "    <path d=\"M18.56 5.44l.94 2.06.94-2.06 2.06-.94-2.06-.94-.94-2.06-.94 2.06-2.06.94zm-11 1L8.5 8.5l.94-2.06 2.06-.94-2.06-.94L8.5 2.5l-.94 2.06-2.06.94zm10 10l.94 2.06.94-2.06 2.06-.94-2.06-.94-.94-2.06-.94 2.06-2.06.94z\"/><path d=\"M17.41 7.96l-1.37-1.37c-.4-.4-.92-.59-1.43-.59-.52 0-1.04.2-1.43.59L10.3 9.45l-7.72 7.72c-.78.78-.78 2.05 0 2.83L4 21.41c.39.39.9.59 1.41.59.51 0 1.02-.2 1.41-.59l7.78-7.78 2.81-2.81c.8-.78.8-2.07 0-2.86zM5.41 20L4 18.59l7.72-7.72 1.47 1.35L5.41 20z\"/>\n",
              "  </svg>\n",
              "      </button>\n",
              "      \n",
              "  <style>\n",
              "    .colab-df-container {\n",
              "      display:flex;\n",
              "      flex-wrap:wrap;\n",
              "      gap: 12px;\n",
              "    }\n",
              "\n",
              "    .colab-df-convert {\n",
              "      background-color: #E8F0FE;\n",
              "      border: none;\n",
              "      border-radius: 50%;\n",
              "      cursor: pointer;\n",
              "      display: none;\n",
              "      fill: #1967D2;\n",
              "      height: 32px;\n",
              "      padding: 0 0 0 0;\n",
              "      width: 32px;\n",
              "    }\n",
              "\n",
              "    .colab-df-convert:hover {\n",
              "      background-color: #E2EBFA;\n",
              "      box-shadow: 0px 1px 2px rgba(60, 64, 67, 0.3), 0px 1px 3px 1px rgba(60, 64, 67, 0.15);\n",
              "      fill: #174EA6;\n",
              "    }\n",
              "\n",
              "    [theme=dark] .colab-df-convert {\n",
              "      background-color: #3B4455;\n",
              "      fill: #D2E3FC;\n",
              "    }\n",
              "\n",
              "    [theme=dark] .colab-df-convert:hover {\n",
              "      background-color: #434B5C;\n",
              "      box-shadow: 0px 1px 3px 1px rgba(0, 0, 0, 0.15);\n",
              "      filter: drop-shadow(0px 1px 2px rgba(0, 0, 0, 0.3));\n",
              "      fill: #FFFFFF;\n",
              "    }\n",
              "  </style>\n",
              "\n",
              "      <script>\n",
              "        const buttonEl =\n",
              "          document.querySelector('#df-07fd0c9c-f343-42f2-a766-d2389f8f8883 button.colab-df-convert');\n",
              "        buttonEl.style.display =\n",
              "          google.colab.kernel.accessAllowed ? 'block' : 'none';\n",
              "\n",
              "        async function convertToInteractive(key) {\n",
              "          const element = document.querySelector('#df-07fd0c9c-f343-42f2-a766-d2389f8f8883');\n",
              "          const dataTable =\n",
              "            await google.colab.kernel.invokeFunction('convertToInteractive',\n",
              "                                                     [key], {});\n",
              "          if (!dataTable) return;\n",
              "\n",
              "          const docLinkHtml = 'Like what you see? Visit the ' +\n",
              "            '<a target=\"_blank\" href=https://colab.research.google.com/notebooks/data_table.ipynb>data table notebook</a>'\n",
              "            + ' to learn more about interactive tables.';\n",
              "          element.innerHTML = '';\n",
              "          dataTable['output_type'] = 'display_data';\n",
              "          await google.colab.output.renderOutput(dataTable, element);\n",
              "          const docLink = document.createElement('div');\n",
              "          docLink.innerHTML = docLinkHtml;\n",
              "          element.appendChild(docLink);\n",
              "        }\n",
              "      </script>\n",
              "    </div>\n",
              "  </div>\n",
              "  "
            ],
            "text/plain": [
              "                                                    neg_mean_absolute_error\n",
              "PCA with 50 components + XGBRegressor Linear Ra...            -16177.632845\n",
              "PCA with 75 components + XGBRegressor Linear Ra...            -16041.683604\n",
              "PCA with 100 components + XGBRegressor Linear R...            -16047.096073\n",
              "PCA with 125 components + XGBRegressor Linear R...            -15953.465203\n",
              "PCA with 150 components + XGBRegressor Linear R...            -16090.970181"
            ]
          },
          "execution_count": 169,
          "metadata": {},
          "output_type": "execute_result"
        }
      ],
      "source": [
        "df_scores = pd.DataFrame(scores, index=index)\n",
        "df_scores"
      ]
    },
    {
      "cell_type": "code",
      "execution_count": null,
      "metadata": {
        "id": "f9eWEwyS120Y"
      },
      "outputs": [],
      "source": [
        "scores = {'neg_mean_absolute_error': []}\n",
        "index = []\n",
        "for name, data in chosen_data.items():\n",
        "    result = cross_val_score(XGBRegressor(random_state=1), X=data, y=y_lin, cv=5, scoring='neg_mean_absolute_error')\n",
        "    index += [name + ' + XGBRegressor']\n",
        "    scores['neg_mean_absolute_error'].append(result.mean())\n",
        "\n",
        "result = cross_val_score(XGBRegressor(random_state=1), X=data_tree, y=y_tree, cv=5, scoring='neg_mean_absolute_error')\n",
        "index += ['Full Data + XGBRegressor Tree']\n",
        "scores['neg_mean_absolute_error'].append(result.mean())\n",
        "result = cross_val_score(XGBRegressor(random_state=1), X=data_lin, y=y_lin, cv=5, scoring='neg_mean_absolute_error')\n",
        "index += ['Full Data + XGBRegressor Linear']\n",
        "scores['neg_mean_absolute_error'].append(result.mean())\n"
      ]
    },
    {
      "cell_type": "code",
      "execution_count": null,
      "metadata": {
        "colab": {
          "base_uri": "https://localhost:8080/",
          "height": 331
        },
        "id": "C8FV9S1W4FFj",
        "outputId": "84bf23fb-7e66-4845-f0e9-87e1111efdf9"
      },
      "outputs": [
        {
          "data": {
            "text/html": [
              "\n",
              "  <div id=\"df-34f00ede-b246-477f-b2ca-3c5bee82c890\">\n",
              "    <div class=\"colab-df-container\">\n",
              "      <div>\n",
              "<style scoped>\n",
              "    .dataframe tbody tr th:only-of-type {\n",
              "        vertical-align: middle;\n",
              "    }\n",
              "\n",
              "    .dataframe tbody tr th {\n",
              "        vertical-align: top;\n",
              "    }\n",
              "\n",
              "    .dataframe thead th {\n",
              "        text-align: right;\n",
              "    }\n",
              "</style>\n",
              "<table border=\"1\" class=\"dataframe\">\n",
              "  <thead>\n",
              "    <tr style=\"text-align: right;\">\n",
              "      <th></th>\n",
              "      <th>neg_mean_absolute_error</th>\n",
              "    </tr>\n",
              "  </thead>\n",
              "  <tbody>\n",
              "    <tr>\n",
              "      <th>SFS forward Linear + XGBRegressor</th>\n",
              "      <td>-15466.751944</td>\n",
              "    </tr>\n",
              "    <tr>\n",
              "      <th>SFS forward Tree + XGBRegressor</th>\n",
              "      <td>-16030.973899</td>\n",
              "    </tr>\n",
              "    <tr>\n",
              "      <th>RFE Random Forest Tree + XGBRegressor</th>\n",
              "      <td>-15723.660588</td>\n",
              "    </tr>\n",
              "    <tr>\n",
              "      <th>RFE Linear Regression + XGBRegressor</th>\n",
              "      <td>-15843.621777</td>\n",
              "    </tr>\n",
              "    <tr>\n",
              "      <th>Ridge Linear Features + XGBRegressor</th>\n",
              "      <td>-15642.870394</td>\n",
              "    </tr>\n",
              "    <tr>\n",
              "      <th>Lasso Linear Features + XGBRegressor</th>\n",
              "      <td>-15481.976884</td>\n",
              "    </tr>\n",
              "    <tr>\n",
              "      <th>Random Forest Tree Features + XGBRegressor</th>\n",
              "      <td>-19465.371437</td>\n",
              "    </tr>\n",
              "    <tr>\n",
              "      <th>Full Data + XGBRegressor Tree</th>\n",
              "      <td>-15568.732597</td>\n",
              "    </tr>\n",
              "    <tr>\n",
              "      <th>Full Data + XGBRegressor Linear</th>\n",
              "      <td>-15380.487256</td>\n",
              "    </tr>\n",
              "  </tbody>\n",
              "</table>\n",
              "</div>\n",
              "      <button class=\"colab-df-convert\" onclick=\"convertToInteractive('df-34f00ede-b246-477f-b2ca-3c5bee82c890')\"\n",
              "              title=\"Convert this dataframe to an interactive table.\"\n",
              "              style=\"display:none;\">\n",
              "        \n",
              "  <svg xmlns=\"http://www.w3.org/2000/svg\" height=\"24px\"viewBox=\"0 0 24 24\"\n",
              "       width=\"24px\">\n",
              "    <path d=\"M0 0h24v24H0V0z\" fill=\"none\"/>\n",
              "    <path d=\"M18.56 5.44l.94 2.06.94-2.06 2.06-.94-2.06-.94-.94-2.06-.94 2.06-2.06.94zm-11 1L8.5 8.5l.94-2.06 2.06-.94-2.06-.94L8.5 2.5l-.94 2.06-2.06.94zm10 10l.94 2.06.94-2.06 2.06-.94-2.06-.94-.94-2.06-.94 2.06-2.06.94z\"/><path d=\"M17.41 7.96l-1.37-1.37c-.4-.4-.92-.59-1.43-.59-.52 0-1.04.2-1.43.59L10.3 9.45l-7.72 7.72c-.78.78-.78 2.05 0 2.83L4 21.41c.39.39.9.59 1.41.59.51 0 1.02-.2 1.41-.59l7.78-7.78 2.81-2.81c.8-.78.8-2.07 0-2.86zM5.41 20L4 18.59l7.72-7.72 1.47 1.35L5.41 20z\"/>\n",
              "  </svg>\n",
              "      </button>\n",
              "      \n",
              "  <style>\n",
              "    .colab-df-container {\n",
              "      display:flex;\n",
              "      flex-wrap:wrap;\n",
              "      gap: 12px;\n",
              "    }\n",
              "\n",
              "    .colab-df-convert {\n",
              "      background-color: #E8F0FE;\n",
              "      border: none;\n",
              "      border-radius: 50%;\n",
              "      cursor: pointer;\n",
              "      display: none;\n",
              "      fill: #1967D2;\n",
              "      height: 32px;\n",
              "      padding: 0 0 0 0;\n",
              "      width: 32px;\n",
              "    }\n",
              "\n",
              "    .colab-df-convert:hover {\n",
              "      background-color: #E2EBFA;\n",
              "      box-shadow: 0px 1px 2px rgba(60, 64, 67, 0.3), 0px 1px 3px 1px rgba(60, 64, 67, 0.15);\n",
              "      fill: #174EA6;\n",
              "    }\n",
              "\n",
              "    [theme=dark] .colab-df-convert {\n",
              "      background-color: #3B4455;\n",
              "      fill: #D2E3FC;\n",
              "    }\n",
              "\n",
              "    [theme=dark] .colab-df-convert:hover {\n",
              "      background-color: #434B5C;\n",
              "      box-shadow: 0px 1px 3px 1px rgba(0, 0, 0, 0.15);\n",
              "      filter: drop-shadow(0px 1px 2px rgba(0, 0, 0, 0.3));\n",
              "      fill: #FFFFFF;\n",
              "    }\n",
              "  </style>\n",
              "\n",
              "      <script>\n",
              "        const buttonEl =\n",
              "          document.querySelector('#df-34f00ede-b246-477f-b2ca-3c5bee82c890 button.colab-df-convert');\n",
              "        buttonEl.style.display =\n",
              "          google.colab.kernel.accessAllowed ? 'block' : 'none';\n",
              "\n",
              "        async function convertToInteractive(key) {\n",
              "          const element = document.querySelector('#df-34f00ede-b246-477f-b2ca-3c5bee82c890');\n",
              "          const dataTable =\n",
              "            await google.colab.kernel.invokeFunction('convertToInteractive',\n",
              "                                                     [key], {});\n",
              "          if (!dataTable) return;\n",
              "\n",
              "          const docLinkHtml = 'Like what you see? Visit the ' +\n",
              "            '<a target=\"_blank\" href=https://colab.research.google.com/notebooks/data_table.ipynb>data table notebook</a>'\n",
              "            + ' to learn more about interactive tables.';\n",
              "          element.innerHTML = '';\n",
              "          dataTable['output_type'] = 'display_data';\n",
              "          await google.colab.output.renderOutput(dataTable, element);\n",
              "          const docLink = document.createElement('div');\n",
              "          docLink.innerHTML = docLinkHtml;\n",
              "          element.appendChild(docLink);\n",
              "        }\n",
              "      </script>\n",
              "    </div>\n",
              "  </div>\n",
              "  "
            ],
            "text/plain": [
              "                                            neg_mean_absolute_error\n",
              "SFS forward Linear + XGBRegressor                     -15466.751944\n",
              "SFS forward Tree + XGBRegressor                       -16030.973899\n",
              "RFE Random Forest Tree + XGBRegressor                 -15723.660588\n",
              "RFE Linear Regression + XGBRegressor                  -15843.621777\n",
              "Ridge Linear Features + XGBRegressor                  -15642.870394\n",
              "Lasso Linear Features + XGBRegressor                  -15481.976884\n",
              "Random Forest Tree Features + XGBRegressor            -19465.371437\n",
              "Full Data + XGBRegressor Tree                         -15568.732597\n",
              "Full Data + XGBRegressor Linear                       -15380.487256"
            ]
          },
          "execution_count": 163,
          "metadata": {},
          "output_type": "execute_result"
        }
      ],
      "source": [
        "df_scores = pd.DataFrame(scores, index=index)\n",
        "df_scores"
      ]
    },
    {
      "cell_type": "markdown",
      "metadata": {
        "id": "FLjzpVfL7ORa"
      },
      "source": [
        "# Grid Search for Best Model"
      ]
    },
    {
      "cell_type": "code",
      "execution_count": null,
      "metadata": {
        "colab": {
          "base_uri": "https://localhost:8080/"
        },
        "id": "SamfLejn7N_M",
        "outputId": "5d00af02-5314-43e6-ce93-2119b63c3410"
      },
      "outputs": [
        {
          "name": "stdout",
          "output_type": "stream",
          "text": [
            "[01:09:34] WARNING: /workspace/src/objective/regression_obj.cu:152: reg:linear is now deprecated in favor of reg:squarederror.\n",
            "CPU times: user 42.6 s, sys: 2.61 s, total: 45.2 s\n",
            "Wall time: 31min 29s\n"
          ]
        },
        {
          "data": {
            "text/plain": [
              "GridSearchCV(cv=3, estimator=XGBRegressor(), n_jobs=-1,\n",
              "             param_grid={'colsample_bytree': [0.3, 0.4],\n",
              "                         'gamma': [0.0, 0.1, 0.2],\n",
              "                         'learning_rate': (0.05, 0.1, 0.15),\n",
              "                         'max_depth': [3, 4, 5, 6, 8],\n",
              "                         'min_child_weight': [1, 3, 5, 7],\n",
              "                         'random_satate': [1, 2, 3, 4, 5]},\n",
              "             scoring='neg_mean_squared_error')"
            ]
          },
          "execution_count": 177,
          "metadata": {},
          "output_type": "execute_result"
        }
      ],
      "source": [
        "%%time\n",
        "gsc = GridSearchCV(\n",
        "            estimator=XGBRegressor(),\n",
        "            param_grid={\"learning_rate\": (0.05, 0.10, 0.15),\n",
        "                        \"max_depth\": [ 3, 4, 5, 6, 8],\n",
        "                        \"min_child_weight\": [ 1, 3, 5, 7],\n",
        "                        \"gamma\":[ 0.0, 0.1, 0.2],\n",
        "                        \"colsample_bytree\":[ 0.3, 0.4],\n",
        "                        \"random_satate\": [1, 2, 3, 4, 5]},\n",
        "            cv=3, scoring='neg_mean_squared_error', verbose=0, n_jobs=-1)\n",
        "gsc.fit(data_lin, y_lin)"
      ]
    },
    {
      "cell_type": "code",
      "execution_count": null,
      "metadata": {
        "id": "0ANX7nl-9zww"
      },
      "outputs": [],
      "source": [
        "best_model = XGBRegressor(colsample_bytree=0.3, gamma=0.0, learning_rate=0.15, max_depth=4,\n",
        "             min_child_weight=3, random_satate=1)\n",
        "scores = {'neg_mean_absolute_error': []}\n",
        "index = []\n",
        "for name, data in chosen_data.items():\n",
        "    result = cross_val_score(best_model, X=data, y=y_lin, cv=5, scoring='neg_mean_absolute_error')\n",
        "    index += [name + ' + XGBRegressor']\n",
        "    scores['neg_mean_absolute_error'].append(result.mean())\n",
        "\n",
        "result = cross_val_score(best_model, X=data_tree, y=y_tree, cv=5, scoring='neg_mean_absolute_error')\n",
        "index += ['Full Data + XGBRegressor Tree']\n",
        "scores['neg_mean_absolute_error'].append(result.mean())\n",
        "result = cross_val_score(XGBRegressor(random_state=1), X=data_lin, y=y_lin, cv=5, scoring='neg_mean_absolute_error')\n",
        "index += ['Full Data + XGBRegressor Linear']\n",
        "scores['neg_mean_absolute_error'].append(result.mean())\n"
      ]
    },
    {
      "cell_type": "code",
      "execution_count": null,
      "metadata": {
        "colab": {
          "base_uri": "https://localhost:8080/",
          "height": 331
        },
        "id": "7tCOOE2W-LZp",
        "outputId": "9f4c6958-bec5-4f2d-f85b-c643a2c26858"
      },
      "outputs": [
        {
          "data": {
            "text/html": [
              "\n",
              "  <div id=\"df-385f5258-a27b-4bff-a54b-bb85fa71f237\">\n",
              "    <div class=\"colab-df-container\">\n",
              "      <div>\n",
              "<style scoped>\n",
              "    .dataframe tbody tr th:only-of-type {\n",
              "        vertical-align: middle;\n",
              "    }\n",
              "\n",
              "    .dataframe tbody tr th {\n",
              "        vertical-align: top;\n",
              "    }\n",
              "\n",
              "    .dataframe thead th {\n",
              "        text-align: right;\n",
              "    }\n",
              "</style>\n",
              "<table border=\"1\" class=\"dataframe\">\n",
              "  <thead>\n",
              "    <tr style=\"text-align: right;\">\n",
              "      <th></th>\n",
              "      <th>neg_mean_absolute_error</th>\n",
              "    </tr>\n",
              "  </thead>\n",
              "  <tbody>\n",
              "    <tr>\n",
              "      <th>SFS forward Linear + XGBRegressor</th>\n",
              "      <td>-15643.563376</td>\n",
              "    </tr>\n",
              "    <tr>\n",
              "      <th>SFS forward Tree + XGBRegressor</th>\n",
              "      <td>-15829.717361</td>\n",
              "    </tr>\n",
              "    <tr>\n",
              "      <th>RFE Random Forest Tree + XGBRegressor</th>\n",
              "      <td>-15356.394714</td>\n",
              "    </tr>\n",
              "    <tr>\n",
              "      <th>RFE Linear Regression + XGBRegressor</th>\n",
              "      <td>-15632.976052</td>\n",
              "    </tr>\n",
              "    <tr>\n",
              "      <th>Ridge Linear Features + XGBRegressor</th>\n",
              "      <td>-15547.997645</td>\n",
              "    </tr>\n",
              "    <tr>\n",
              "      <th>Lasso Linear Features + XGBRegressor</th>\n",
              "      <td>-15314.350169</td>\n",
              "    </tr>\n",
              "    <tr>\n",
              "      <th>Random Forest Tree Features + XGBRegressor</th>\n",
              "      <td>-20010.889284</td>\n",
              "    </tr>\n",
              "    <tr>\n",
              "      <th>Full Data + XGBRegressor Tree</th>\n",
              "      <td>-14804.058212</td>\n",
              "    </tr>\n",
              "    <tr>\n",
              "      <th>Full Data + XGBRegressor Linear</th>\n",
              "      <td>-15380.487256</td>\n",
              "    </tr>\n",
              "  </tbody>\n",
              "</table>\n",
              "</div>\n",
              "      <button class=\"colab-df-convert\" onclick=\"convertToInteractive('df-385f5258-a27b-4bff-a54b-bb85fa71f237')\"\n",
              "              title=\"Convert this dataframe to an interactive table.\"\n",
              "              style=\"display:none;\">\n",
              "        \n",
              "  <svg xmlns=\"http://www.w3.org/2000/svg\" height=\"24px\"viewBox=\"0 0 24 24\"\n",
              "       width=\"24px\">\n",
              "    <path d=\"M0 0h24v24H0V0z\" fill=\"none\"/>\n",
              "    <path d=\"M18.56 5.44l.94 2.06.94-2.06 2.06-.94-2.06-.94-.94-2.06-.94 2.06-2.06.94zm-11 1L8.5 8.5l.94-2.06 2.06-.94-2.06-.94L8.5 2.5l-.94 2.06-2.06.94zm10 10l.94 2.06.94-2.06 2.06-.94-2.06-.94-.94-2.06-.94 2.06-2.06.94z\"/><path d=\"M17.41 7.96l-1.37-1.37c-.4-.4-.92-.59-1.43-.59-.52 0-1.04.2-1.43.59L10.3 9.45l-7.72 7.72c-.78.78-.78 2.05 0 2.83L4 21.41c.39.39.9.59 1.41.59.51 0 1.02-.2 1.41-.59l7.78-7.78 2.81-2.81c.8-.78.8-2.07 0-2.86zM5.41 20L4 18.59l7.72-7.72 1.47 1.35L5.41 20z\"/>\n",
              "  </svg>\n",
              "      </button>\n",
              "      \n",
              "  <style>\n",
              "    .colab-df-container {\n",
              "      display:flex;\n",
              "      flex-wrap:wrap;\n",
              "      gap: 12px;\n",
              "    }\n",
              "\n",
              "    .colab-df-convert {\n",
              "      background-color: #E8F0FE;\n",
              "      border: none;\n",
              "      border-radius: 50%;\n",
              "      cursor: pointer;\n",
              "      display: none;\n",
              "      fill: #1967D2;\n",
              "      height: 32px;\n",
              "      padding: 0 0 0 0;\n",
              "      width: 32px;\n",
              "    }\n",
              "\n",
              "    .colab-df-convert:hover {\n",
              "      background-color: #E2EBFA;\n",
              "      box-shadow: 0px 1px 2px rgba(60, 64, 67, 0.3), 0px 1px 3px 1px rgba(60, 64, 67, 0.15);\n",
              "      fill: #174EA6;\n",
              "    }\n",
              "\n",
              "    [theme=dark] .colab-df-convert {\n",
              "      background-color: #3B4455;\n",
              "      fill: #D2E3FC;\n",
              "    }\n",
              "\n",
              "    [theme=dark] .colab-df-convert:hover {\n",
              "      background-color: #434B5C;\n",
              "      box-shadow: 0px 1px 3px 1px rgba(0, 0, 0, 0.15);\n",
              "      filter: drop-shadow(0px 1px 2px rgba(0, 0, 0, 0.3));\n",
              "      fill: #FFFFFF;\n",
              "    }\n",
              "  </style>\n",
              "\n",
              "      <script>\n",
              "        const buttonEl =\n",
              "          document.querySelector('#df-385f5258-a27b-4bff-a54b-bb85fa71f237 button.colab-df-convert');\n",
              "        buttonEl.style.display =\n",
              "          google.colab.kernel.accessAllowed ? 'block' : 'none';\n",
              "\n",
              "        async function convertToInteractive(key) {\n",
              "          const element = document.querySelector('#df-385f5258-a27b-4bff-a54b-bb85fa71f237');\n",
              "          const dataTable =\n",
              "            await google.colab.kernel.invokeFunction('convertToInteractive',\n",
              "                                                     [key], {});\n",
              "          if (!dataTable) return;\n",
              "\n",
              "          const docLinkHtml = 'Like what you see? Visit the ' +\n",
              "            '<a target=\"_blank\" href=https://colab.research.google.com/notebooks/data_table.ipynb>data table notebook</a>'\n",
              "            + ' to learn more about interactive tables.';\n",
              "          element.innerHTML = '';\n",
              "          dataTable['output_type'] = 'display_data';\n",
              "          await google.colab.output.renderOutput(dataTable, element);\n",
              "          const docLink = document.createElement('div');\n",
              "          docLink.innerHTML = docLinkHtml;\n",
              "          element.appendChild(docLink);\n",
              "        }\n",
              "      </script>\n",
              "    </div>\n",
              "  </div>\n",
              "  "
            ],
            "text/plain": [
              "                                            neg_mean_absolute_error\n",
              "SFS forward Linear + XGBRegressor                     -15643.563376\n",
              "SFS forward Tree + XGBRegressor                       -15829.717361\n",
              "RFE Random Forest Tree + XGBRegressor                 -15356.394714\n",
              "RFE Linear Regression + XGBRegressor                  -15632.976052\n",
              "Ridge Linear Features + XGBRegressor                  -15547.997645\n",
              "Lasso Linear Features + XGBRegressor                  -15314.350169\n",
              "Random Forest Tree Features + XGBRegressor            -20010.889284\n",
              "Full Data + XGBRegressor Tree                         -14804.058212\n",
              "Full Data + XGBRegressor Linear                       -15380.487256"
            ]
          },
          "execution_count": 179,
          "metadata": {},
          "output_type": "execute_result"
        }
      ],
      "source": [
        "df_scores = pd.DataFrame(scores, index=index)\n",
        "df_scores"
      ]
    },
    {
      "cell_type": "code",
      "execution_count": null,
      "metadata": {
        "id": "2pCpOv8T-OfC"
      },
      "outputs": [],
      "source": [
        "%%time\n",
        "gsc_tree = GridSearchCV(\n",
        "            estimator=XGBRegressor(),\n",
        "            param_grid={\"learning_rate\": (0.05, 0.10, 0.15),\n",
        "                        \"max_depth\": [ 3, 4, 5, 6, 8],\n",
        "                        \"min_child_weight\": [ 1, 3, 5, 7],\n",
        "                        \"gamma\":[ 0.0, 0.1, 0.2],\n",
        "                        \"colsample_bytree\":[ 0.3, 0.4],\n",
        "                        \"random_satate\": [1, 2, 3, 4, 5]},\n",
        "            cv=3, scoring='neg_mean_squared_error', verbose=0, n_jobs=-1)\n",
        "gsc_tree.fit(data_tree, y_tree)"
      ]
    },
    {
      "cell_type": "code",
      "execution_count": null,
      "metadata": {
        "id": "_vspCXS1-wVf"
      },
      "outputs": [],
      "source": [
        "best_model = XGBRegressor(colsample_bytree=0.4, gamma=0.0, max_depth=4, min_child_weight=3,\n",
        "             random_satate=1)\n",
        "scores = {'neg_mean_absolute_error': []}\n",
        "index = []\n",
        "for name, data in chosen_data.items():\n",
        "    result = cross_val_score(best_model, X=data, y=y_lin, cv=5, scoring='neg_mean_absolute_error')\n",
        "    index += [name + ' + XGBRegressor']\n",
        "    scores['neg_mean_absolute_error'].append(result.mean())\n",
        "\n",
        "result = cross_val_score(best_model, X=data_tree, y=y_tree, cv=5, scoring='neg_mean_absolute_error')\n",
        "index += ['Full Data + XGBRegressor Tree']\n",
        "scores['neg_mean_absolute_error'].append(result.mean())\n",
        "result = cross_val_score(XGBRegressor(random_state=1), X=data_lin, y=y_lin, cv=5, scoring='neg_mean_absolute_error')\n",
        "index += ['Full Data + XGBRegressor Linear']\n",
        "scores['neg_mean_absolute_error'].append(result.mean())"
      ]
    },
    {
      "cell_type": "code",
      "execution_count": null,
      "metadata": {
        "colab": {
          "base_uri": "https://localhost:8080/",
          "height": 331
        },
        "id": "rfd0uuq2-2b1",
        "outputId": "ab19bcc3-b27d-431a-ee5f-2dd39a069ec0"
      },
      "outputs": [
        {
          "data": {
            "text/html": [
              "\n",
              "  <div id=\"df-d97df28d-a064-412a-ae8a-eccba76384c2\">\n",
              "    <div class=\"colab-df-container\">\n",
              "      <div>\n",
              "<style scoped>\n",
              "    .dataframe tbody tr th:only-of-type {\n",
              "        vertical-align: middle;\n",
              "    }\n",
              "\n",
              "    .dataframe tbody tr th {\n",
              "        vertical-align: top;\n",
              "    }\n",
              "\n",
              "    .dataframe thead th {\n",
              "        text-align: right;\n",
              "    }\n",
              "</style>\n",
              "<table border=\"1\" class=\"dataframe\">\n",
              "  <thead>\n",
              "    <tr style=\"text-align: right;\">\n",
              "      <th></th>\n",
              "      <th>neg_mean_absolute_error</th>\n",
              "    </tr>\n",
              "  </thead>\n",
              "  <tbody>\n",
              "    <tr>\n",
              "      <th>SFS forward Linear + XGBRegressor</th>\n",
              "      <td>-14993.943130</td>\n",
              "    </tr>\n",
              "    <tr>\n",
              "      <th>SFS forward Tree + XGBRegressor</th>\n",
              "      <td>-15620.988421</td>\n",
              "    </tr>\n",
              "    <tr>\n",
              "      <th>RFE Random Forest Tree + XGBRegressor</th>\n",
              "      <td>-15163.102069</td>\n",
              "    </tr>\n",
              "    <tr>\n",
              "      <th>RFE Linear Regression + XGBRegressor</th>\n",
              "      <td>-15433.791617</td>\n",
              "    </tr>\n",
              "    <tr>\n",
              "      <th>Ridge Linear Features + XGBRegressor</th>\n",
              "      <td>-15129.310951</td>\n",
              "    </tr>\n",
              "    <tr>\n",
              "      <th>Lasso Linear Features + XGBRegressor</th>\n",
              "      <td>-14963.478804</td>\n",
              "    </tr>\n",
              "    <tr>\n",
              "      <th>Random Forest Tree Features + XGBRegressor</th>\n",
              "      <td>-19889.961530</td>\n",
              "    </tr>\n",
              "    <tr>\n",
              "      <th>Full Data + XGBRegressor Tree</th>\n",
              "      <td>-14784.735937</td>\n",
              "    </tr>\n",
              "    <tr>\n",
              "      <th>Full Data + XGBRegressor Linear</th>\n",
              "      <td>-15380.487256</td>\n",
              "    </tr>\n",
              "  </tbody>\n",
              "</table>\n",
              "</div>\n",
              "      <button class=\"colab-df-convert\" onclick=\"convertToInteractive('df-d97df28d-a064-412a-ae8a-eccba76384c2')\"\n",
              "              title=\"Convert this dataframe to an interactive table.\"\n",
              "              style=\"display:none;\">\n",
              "        \n",
              "  <svg xmlns=\"http://www.w3.org/2000/svg\" height=\"24px\"viewBox=\"0 0 24 24\"\n",
              "       width=\"24px\">\n",
              "    <path d=\"M0 0h24v24H0V0z\" fill=\"none\"/>\n",
              "    <path d=\"M18.56 5.44l.94 2.06.94-2.06 2.06-.94-2.06-.94-.94-2.06-.94 2.06-2.06.94zm-11 1L8.5 8.5l.94-2.06 2.06-.94-2.06-.94L8.5 2.5l-.94 2.06-2.06.94zm10 10l.94 2.06.94-2.06 2.06-.94-2.06-.94-.94-2.06-.94 2.06-2.06.94z\"/><path d=\"M17.41 7.96l-1.37-1.37c-.4-.4-.92-.59-1.43-.59-.52 0-1.04.2-1.43.59L10.3 9.45l-7.72 7.72c-.78.78-.78 2.05 0 2.83L4 21.41c.39.39.9.59 1.41.59.51 0 1.02-.2 1.41-.59l7.78-7.78 2.81-2.81c.8-.78.8-2.07 0-2.86zM5.41 20L4 18.59l7.72-7.72 1.47 1.35L5.41 20z\"/>\n",
              "  </svg>\n",
              "      </button>\n",
              "      \n",
              "  <style>\n",
              "    .colab-df-container {\n",
              "      display:flex;\n",
              "      flex-wrap:wrap;\n",
              "      gap: 12px;\n",
              "    }\n",
              "\n",
              "    .colab-df-convert {\n",
              "      background-color: #E8F0FE;\n",
              "      border: none;\n",
              "      border-radius: 50%;\n",
              "      cursor: pointer;\n",
              "      display: none;\n",
              "      fill: #1967D2;\n",
              "      height: 32px;\n",
              "      padding: 0 0 0 0;\n",
              "      width: 32px;\n",
              "    }\n",
              "\n",
              "    .colab-df-convert:hover {\n",
              "      background-color: #E2EBFA;\n",
              "      box-shadow: 0px 1px 2px rgba(60, 64, 67, 0.3), 0px 1px 3px 1px rgba(60, 64, 67, 0.15);\n",
              "      fill: #174EA6;\n",
              "    }\n",
              "\n",
              "    [theme=dark] .colab-df-convert {\n",
              "      background-color: #3B4455;\n",
              "      fill: #D2E3FC;\n",
              "    }\n",
              "\n",
              "    [theme=dark] .colab-df-convert:hover {\n",
              "      background-color: #434B5C;\n",
              "      box-shadow: 0px 1px 3px 1px rgba(0, 0, 0, 0.15);\n",
              "      filter: drop-shadow(0px 1px 2px rgba(0, 0, 0, 0.3));\n",
              "      fill: #FFFFFF;\n",
              "    }\n",
              "  </style>\n",
              "\n",
              "      <script>\n",
              "        const buttonEl =\n",
              "          document.querySelector('#df-d97df28d-a064-412a-ae8a-eccba76384c2 button.colab-df-convert');\n",
              "        buttonEl.style.display =\n",
              "          google.colab.kernel.accessAllowed ? 'block' : 'none';\n",
              "\n",
              "        async function convertToInteractive(key) {\n",
              "          const element = document.querySelector('#df-d97df28d-a064-412a-ae8a-eccba76384c2');\n",
              "          const dataTable =\n",
              "            await google.colab.kernel.invokeFunction('convertToInteractive',\n",
              "                                                     [key], {});\n",
              "          if (!dataTable) return;\n",
              "\n",
              "          const docLinkHtml = 'Like what you see? Visit the ' +\n",
              "            '<a target=\"_blank\" href=https://colab.research.google.com/notebooks/data_table.ipynb>data table notebook</a>'\n",
              "            + ' to learn more about interactive tables.';\n",
              "          element.innerHTML = '';\n",
              "          dataTable['output_type'] = 'display_data';\n",
              "          await google.colab.output.renderOutput(dataTable, element);\n",
              "          const docLink = document.createElement('div');\n",
              "          docLink.innerHTML = docLinkHtml;\n",
              "          element.appendChild(docLink);\n",
              "        }\n",
              "      </script>\n",
              "    </div>\n",
              "  </div>\n",
              "  "
            ],
            "text/plain": [
              "                                            neg_mean_absolute_error\n",
              "SFS forward Linear + XGBRegressor                     -14993.943130\n",
              "SFS forward Tree + XGBRegressor                       -15620.988421\n",
              "RFE Random Forest Tree + XGBRegressor                 -15163.102069\n",
              "RFE Linear Regression + XGBRegressor                  -15433.791617\n",
              "Ridge Linear Features + XGBRegressor                  -15129.310951\n",
              "Lasso Linear Features + XGBRegressor                  -14963.478804\n",
              "Random Forest Tree Features + XGBRegressor            -19889.961530\n",
              "Full Data + XGBRegressor Tree                         -14784.735937\n",
              "Full Data + XGBRegressor Linear                       -15380.487256"
            ]
          },
          "execution_count": 186,
          "metadata": {},
          "output_type": "execute_result"
        }
      ],
      "source": [
        "df_scores = pd.DataFrame(scores, index=index)\n",
        "df_scores"
      ]
    }
  ],
  "metadata": {
    "colab": {
      "collapsed_sections": [
        "OoxZpEdMwzod",
        "4dCdulv5wzof",
        "-zdFuTcEF_ek",
        "RoRLg0VyGLH4",
        "Y_YuE4kBGOrJ",
        "NiPsQWsKGOvm",
        "O8A2aGoTwzou",
        "Ywmpi9ytF4HA"
      ],
      "provenance": [],
      "include_colab_link": true
    },
    "kernelspec": {
      "display_name": "Python 3",
      "language": "python",
      "name": "python3"
    },
    "language_info": {
      "codemirror_mode": {
        "name": "ipython",
        "version": 3
      },
      "file_extension": ".py",
      "mimetype": "text/x-python",
      "name": "python",
      "nbconvert_exporter": "python",
      "pygments_lexer": "ipython3",
      "version": "3.8.3"
    }
  },
  "nbformat": 4,
  "nbformat_minor": 0
}