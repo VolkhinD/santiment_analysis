{
  "nbformat": 4,
  "nbformat_minor": 0,
  "metadata": {
    "colab": {
      "provenance": [],
      "collapsed_sections": [],
      "mount_file_id": "1uvPEQtp3LDAO-iPa2Oqn0zxrxBfdXvFc",
      "authorship_tag": "ABX9TyONbp8x1EpphfiadQ0yiYK7",
      "include_colab_link": true
    },
    "kernelspec": {
      "name": "python3",
      "display_name": "Python 3"
    },
    "language_info": {
      "name": "python"
    }
  },
  "cells": [
    {
      "cell_type": "markdown",
      "metadata": {
        "id": "view-in-github",
        "colab_type": "text"
      },
      "source": [
        "<a href=\"https://colab.research.google.com/github/VolkhinD/sentiment-_analysis/blob/main/sentiments_little.ipynb\" target=\"_parent\"><img src=\"https://colab.research.google.com/assets/colab-badge.svg\" alt=\"Open In Colab\"/></a>"
      ]
    },
    {
      "cell_type": "code",
      "source": [
        "%%capture\n",
        "! pip install transformers"
      ],
      "metadata": {
        "id": "0sr0JOs6ZuSW"
      },
      "execution_count": 1,
      "outputs": []
    },
    {
      "cell_type": "code",
      "execution_count": 2,
      "metadata": {
        "id": "a4bsW8M8Zk3r"
      },
      "outputs": [],
      "source": [
        "import warnings\n",
        "warnings.filterwarnings('ignore')\n",
        "import transformers\n",
        "from transformers import AutoModelForSequenceClassification, AutoTokenizer, pipeline\n",
        "import torch\n",
        "import numpy as np\n",
        "import pandas as pd\n",
        "import seaborn as sns\n",
        "import matplotlib.pyplot as plt\n",
        "from sklearn.model_selection import train_test_split\n",
        "from sklearn.metrics import confusion_matrix, classification_report\n",
        "from torch import nn, optim\n",
        "from torch.utils.data import Dataset, DataLoader\n",
        "import torch.nn.functional as F\n",
        "from transformers import DataCollatorWithPadding\n",
        "from transformers import TrainingArguments\n",
        "from sklearn.metrics import accuracy_score, classification_report\n",
        "%matplotlib inline\n",
        "RANDOM_SEED = 42\n",
        "np.random.seed(RANDOM_SEED)\n",
        "torch.manual_seed(RANDOM_SEED)\n",
        "device = torch.device(\"cuda:0\" if torch.cuda.is_available() else \"cpu\")"
      ]
    },
    {
      "cell_type": "code",
      "source": [
        "device"
      ],
      "metadata": {
        "colab": {
          "base_uri": "https://localhost:8080/"
        },
        "id": "d03E6EoLZPsB",
        "outputId": "cf4f6fe7-38d0-4a5f-deda-2eb9ad3117eb"
      },
      "execution_count": 3,
      "outputs": [
        {
          "output_type": "execute_result",
          "data": {
            "text/plain": [
              "device(type='cuda', index=0)"
            ]
          },
          "metadata": {},
          "execution_count": 3
        }
      ]
    },
    {
      "cell_type": "code",
      "source": [
        "df = pd.read_csv(\"/content/drive/MyDrive/Data/sentiment_analysis/top_reviews.csv\", usecols=[4, 3])\n",
        "df = df.rename(columns={'content': 'comment'})"
      ],
      "metadata": {
        "id": "s-GRBttTq1de"
      },
      "execution_count": 4,
      "outputs": []
    },
    {
      "cell_type": "code",
      "source": [
        "def to_sentiment(row):\n",
        "  if row <= 2:\n",
        "    return 0\n",
        "  elif row == 3:\n",
        "    return 1\n",
        "  else:\n",
        "    return 2\n",
        "df.score = df.score.apply(to_sentiment)\n",
        "class_names = df.score.unique()"
      ],
      "metadata": {
        "id": "dDpIR6KZrPZD"
      },
      "execution_count": 5,
      "outputs": []
    },
    {
      "cell_type": "code",
      "source": [
        "sns.countplot(df.score)"
      ],
      "metadata": {
        "id": "l9GkhamUrQbf",
        "colab": {
          "base_uri": "https://localhost:8080/",
          "height": 297
        },
        "outputId": "dbf87518-9628-453d-9ae5-9ffc278ce42a"
      },
      "execution_count": 6,
      "outputs": [
        {
          "output_type": "execute_result",
          "data": {
            "text/plain": [
              "<matplotlib.axes._subplots.AxesSubplot at 0x7f380efe3250>"
            ]
          },
          "metadata": {},
          "execution_count": 6
        },
        {
          "output_type": "display_data",
          "data": {
            "text/plain": [
              "<Figure size 432x288 with 1 Axes>"
            ],
            "image/png": "[encoded data removed]"
          },
          "metadata": {
            "needs_background": "light"
          }
        }
      ]
    },
    {
      "cell_type": "code",
      "source": [
        "model_name = \"bert-base-uncased\"\n",
        "model = AutoModelForSequenceClassification.from_pretrained(model_name, num_labels=3).to(device)\n",
        "tokenizer = AutoTokenizer.from_pretrained(model_name)\n",
        "cls = pipeline('sentiment-analysis', model=model_name, tokenizer=tokenizer)\n"
      ],
      "metadata": {
        "id": "fnrkftOBrWo4",
        "collapsed": true
      },
      "execution_count": null,
      "outputs": []
    },
    {
      "cell_type": "markdown",
      "source": [
        "# Dataset, Dataloaders"
      ],
      "metadata": {
        "id": "1O1pkwEftXdE"
      }
    },
    {
      "cell_type": "code",
      "source": [
        "class ClsData(Dataset):\n",
        "  def __init__(self, df):\n",
        "    self.df = df\n",
        "    self.text = df.comment.to_numpy()\n",
        "    self.label = df.score.to_numpy()\n",
        "  \n",
        "  def __len__(self):\n",
        "    return len(self.df)\n",
        "\n",
        "  def __getitem__(self, index):\n",
        "    ans = tokenizer.encode_plus(self.text[index], padding=True, return_tensors='pt', truncation=True)\n",
        "    return {\n",
        "        'input_ids': ans['input_ids'].flatten(),\n",
        "        'attention_mask': ans['attention_mask'].flatten(),\n",
        "        'label': torch.tensor(self.label[index], dtype=torch.long)\n",
        "    }\n",
        "\n"
      ],
      "metadata": {
        "id": "6kkT6iNA7M41"
      },
      "execution_count": 8,
      "outputs": []
    },
    {
      "cell_type": "markdown",
      "source": [
        " I use **Dynamic padding** so each bath has it's own max lenngth, the length of longest sentence in a batch. To do that I remove 'sentence' key from Dataset dict beacause it doesn't work with text"
      ],
      "metadata": {
        "id": "Zg5EvYG5pCQN"
      }
    },
    {
      "cell_type": "code",
      "source": [
        "data_collator = DataCollatorWithPadding(tokenizer)\n",
        "train_valid, test = train_test_split(df, test_size=0.2, random_state=42)\n",
        "train, valid = train_test_split(train_valid, test_size=0.25, random_state=42)\n",
        "data = {'train': train, 'valid': valid, 'test': test}\n",
        "data_len = {key: len(data[key]) for key in ['train', 'valid', 'test']}\n",
        "ds_data = {key: ClsData(data[key]) for key in ['train', 'valid', 'test']}\n",
        "dataloaders = {key: DataLoader(ds_data[key], batch_size=8, collate_fn=data_collator) for key in ['train', 'valid', 'test']}"
      ],
      "metadata": {
        "id": "f2yleuBW09u1"
      },
      "execution_count": 9,
      "outputs": []
    },
    {
      "cell_type": "code",
      "source": [
        "for step, batch in enumerate(dataloaders['train']):\n",
        "    print(batch[\"input_ids\"].shape)\n",
        "    if step > 5:\n",
        "        break"
      ],
      "metadata": {
        "id": "--F_Tk9snwdt",
        "colab": {
          "base_uri": "https://localhost:8080/"
        },
        "outputId": "61a78439-bad6-4e4c-c5d3-ab325790329d"
      },
      "execution_count": 10,
      "outputs": [
        {
          "output_type": "stream",
          "name": "stderr",
          "text": [
            "You're using a BertTokenizerFast tokenizer. Please note that with a fast tokenizer, using the `__call__` method is faster than using a method to encode the text followed by a call to the `pad` method to get a padded encoding.\n"
          ]
        },
        {
          "output_type": "stream",
          "name": "stdout",
          "text": [
            "torch.Size([8, 114])\n",
            "torch.Size([8, 75])\n",
            "torch.Size([8, 87])\n",
            "torch.Size([8, 59])\n",
            "torch.Size([8, 43])\n",
            "torch.Size([8, 116])\n",
            "torch.Size([8, 118])\n"
          ]
        }
      ]
    },
    {
      "cell_type": "markdown",
      "source": [
        "# Training"
      ],
      "metadata": {
        "id": "L3ksFugutTCX"
      }
    },
    {
      "cell_type": "markdown",
      "source": [
        "## Hugging face API"
      ],
      "metadata": {
        "id": "9_MVpXV9BrRz"
      }
    },
    {
      "cell_type": "code",
      "source": [
        "training_args = TrainingArguments(\"test-trainer\")"
      ],
      "metadata": {
        "id": "HwXQIJS4-wuD"
      },
      "execution_count": 11,
      "outputs": []
    },
    {
      "cell_type": "code",
      "source": [
        "from transformers import Trainer\n",
        "\n",
        "trainer = Trainer(\n",
        "    model,\n",
        "    training_args,\n",
        "    train_dataset=ds_data[\"train\"],\n",
        "    eval_dataset=ds_data[\"valid\"],\n",
        "    data_collator=data_collator,\n",
        "    tokenizer=tokenizer,\n",
        "\n",
        ")"
      ],
      "metadata": {
        "id": "93V0l4YSubZB"
      },
      "execution_count": 12,
      "outputs": []
    },
    {
      "cell_type": "markdown",
      "source": [
        "I didn’t tell the Trainer to evaluate during training by setting evaluation_strategy to either \"steps\" (evaluate every eval_steps) or \"epoch\" (evaluate at the end of each epoch).\n",
        "I didn’t provide the Trainer with a compute_metrics() function to calculate a metric during said evaluation (otherwise the evaluation would just have printed the loss, which is not a very intuitive number)."
      ],
      "metadata": {
        "id": "FgtPy8mo0PJv"
      }
    },
    {
      "cell_type": "code",
      "source": [
        "trainer.train()"
      ],
      "metadata": {
        "collapsed": true,
        "id": "bYH52sqGvCgT",
        "colab": {
          "base_uri": "https://localhost:8080/",
          "height": 806
        },
        "outputId": "066dc0a1-2f60-43cc-ec1e-f07204e6bd2b"
      },
      "execution_count": 13,
      "outputs": [
        {
          "output_type": "stream",
          "name": "stderr",
          "text": [
            "***** Running training *****\n",
            "  Num examples = 5670\n",
            "  Num Epochs = 3\n",
            "  Instantaneous batch size per device = 8\n",
            "  Total train batch size (w. parallel, distributed & accumulation) = 8\n",
            "  Gradient Accumulation steps = 1\n",
            "  Total optimization steps = 2127\n"
          ]
        },
        {
          "output_type": "display_data",
          "data": {
            "text/plain": [
              "<IPython.core.display.HTML object>"
            ],
            "text/html": [
              "\n",
              "    <div>\n",
              "      \n",
              "      <progress value='2127' max='2127' style='width:300px; height:20px; vertical-align: middle;'></progress>\n",
              "      [2127/2127 06:53, Epoch 3/3]\n",
              "    </div>\n",
              "    <table border=\"1\" class=\"dataframe\">\n",
              "  <thead>\n",
              " <tr style=\"text-align: left;\">\n",
              "      <th>Step</th>\n",
              "      <th>Training Loss</th>\n",
              "    </tr>\n",
              "  </thead>\n",
              "  <tbody>\n",
              "    <tr>\n",
              "      <td>500</td>\n",
              "      <td>0.880200</td>\n",
              "    </tr>\n",
              "    <tr>\n",
              "      <td>1000</td>\n",
              "      <td>0.684000</td>\n",
              "    </tr>\n",
              "    <tr>\n",
              "      <td>1500</td>\n",
              "      <td>0.551400</td>\n",
              "    </tr>\n",
              "    <tr>\n",
              "      <td>2000</td>\n",
              "      <td>0.350700</td>\n",
              "    </tr>\n",
              "  </tbody>\n",
              "</table><p>"
            ]
          },
          "metadata": {}
        },
        {
          "output_type": "stream",
          "name": "stderr",
          "text": [
            "Saving model checkpoint to test-trainer/checkpoint-500\n",
            "Configuration saved in test-trainer/checkpoint-500/config.json\n",
            "Model weights saved in test-trainer/checkpoint-500/pytorch_model.bin\n",
            "tokenizer config file saved in test-trainer/checkpoint-500/tokenizer_config.json\n",
            "Special tokens file saved in test-trainer/checkpoint-500/special_tokens_map.json\n",
            "Saving model checkpoint to test-trainer/checkpoint-1000\n",
            "Configuration saved in test-trainer/checkpoint-1000/config.json\n",
            "Model weights saved in test-trainer/checkpoint-1000/pytorch_model.bin\n",
            "tokenizer config file saved in test-trainer/checkpoint-1000/tokenizer_config.json\n",
            "Special tokens file saved in test-trainer/checkpoint-1000/special_tokens_map.json\n",
            "Saving model checkpoint to test-trainer/checkpoint-1500\n",
            "Configuration saved in test-trainer/checkpoint-1500/config.json\n",
            "Model weights saved in test-trainer/checkpoint-1500/pytorch_model.bin\n",
            "tokenizer config file saved in test-trainer/checkpoint-1500/tokenizer_config.json\n",
            "Special tokens file saved in test-trainer/checkpoint-1500/special_tokens_map.json\n",
            "Saving model checkpoint to test-trainer/checkpoint-2000\n",
            "Configuration saved in test-trainer/checkpoint-2000/config.json\n",
            "Model weights saved in test-trainer/checkpoint-2000/pytorch_model.bin\n",
            "tokenizer config file saved in test-trainer/checkpoint-2000/tokenizer_config.json\n",
            "Special tokens file saved in test-trainer/checkpoint-2000/special_tokens_map.json\n",
            "\n",
            "\n",
            "Training completed. Do not forget to share your model on huggingface.co/models =)\n",
            "\n",
            "\n"
          ]
        },
        {
          "output_type": "execute_result",
          "data": {
            "text/plain": [
              "TrainOutput(global_step=2127, training_loss=0.6003253041829197, metrics={'train_runtime': 415.9957, 'train_samples_per_second': 40.89, 'train_steps_per_second': 5.113, 'total_flos': 900416254723524.0, 'train_loss': 0.6003253041829197, 'epoch': 3.0})"
            ]
          },
          "metadata": {},
          "execution_count": 13
        }
      ]
    },
    {
      "cell_type": "code",
      "source": [
        "torch.save(model.state_dict(), \"/content/drive/MyDrive/Models/sentiment_bert.pt\")"
      ],
      "metadata": {
        "id": "wn0uNkj_zQN4"
      },
      "execution_count": 14,
      "outputs": []
    },
    {
      "cell_type": "code",
      "source": [
        "predictions = trainer.predict(ds_data[\"test\"])\n",
        "print(predictions.predictions.shape, predictions.label_ids.shape)\n",
        "preds = np.argmax(predictions.predictions, axis=-1)\n",
        "preds"
      ],
      "metadata": {
        "id": "DLeBvv2M-I-a",
        "colab": {
          "base_uri": "https://localhost:8080/",
          "height": 106
        },
        "outputId": "1f800368-6c73-4471-bed6-8bee59c4a13e"
      },
      "execution_count": 15,
      "outputs": [
        {
          "output_type": "stream",
          "name": "stderr",
          "text": [
            "***** Running Prediction *****\n",
            "  Num examples = 1891\n",
            "  Batch size = 8\n"
          ]
        },
        {
          "output_type": "display_data",
          "data": {
            "text/plain": [
              "<IPython.core.display.HTML object>"
            ],
            "text/html": []
          },
          "metadata": {}
        },
        {
          "output_type": "stream",
          "name": "stdout",
          "text": [
            "(1891, 3) (1891,)\n"
          ]
        },
        {
          "output_type": "execute_result",
          "data": {
            "text/plain": [
              "array([2, 0, 2, ..., 1, 2, 1])"
            ]
          },
          "metadata": {},
          "execution_count": 15
        }
      ]
    },
    {
      "cell_type": "code",
      "source": [
        "print(classification_report(test.score, preds))"
      ],
      "metadata": {
        "id": "qDviO-0D_sO9",
        "colab": {
          "base_uri": "https://localhost:8080/"
        },
        "outputId": "3221370f-2741-40fa-ccc3-2d0bc419e76f"
      },
      "execution_count": 16,
      "outputs": [
        {
          "output_type": "stream",
          "name": "stdout",
          "text": [
            "              precision    recall  f1-score   support\n",
            "\n",
            "           0       0.73      0.69      0.71       641\n",
            "           1       0.51      0.49      0.50       547\n",
            "           2       0.74      0.79      0.77       703\n",
            "\n",
            "    accuracy                           0.67      1891\n",
            "   macro avg       0.66      0.66      0.66      1891\n",
            "weighted avg       0.67      0.67      0.67      1891\n",
            "\n"
          ]
        }
      ]
    }
  ]
}