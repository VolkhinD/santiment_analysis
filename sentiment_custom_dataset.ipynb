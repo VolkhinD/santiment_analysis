{
  "nbformat": 4,
  "nbformat_minor": 0,
  "metadata": {
    "colab": {
      "provenance": [],
      "collapsed_sections": [],
      "mount_file_id": "1qR4g93bQn_KNPbpR-W1pwOzbiDt5tvVS",
      "authorship_tag": "ABX9TyMpHuBEf7pfngpev3hWcDAb"
    },
    "kernelspec": {
      "name": "python3",
      "display_name": "Python 3"
    },
    "language_info": {
      "name": "python"
    }
  },
  "cells": [
    {
      "cell_type": "code",
      "source": [
        "%%capture\n",
        "!pip install google-play-scraper"
      ],
      "metadata": {
        "id": "osBfFuX2lrZ2"
      },
      "execution_count": 17,
      "outputs": []
    },
    {
      "cell_type": "code",
      "source": [
        "import json\n",
        "import pandas as pd\n",
        "from tqdm import tqdm\n",
        "import seaborn as sns\n",
        "import matplotlib.pyplot as plt\n",
        "\n",
        "from pygments import highlight\n",
        "from pygments.lexers import JsonLexer\n",
        "from pygments.formatters import TerminalFormatter\n",
        "\n",
        "from google_play_scraper import Sort, reviews, app, reviews_all\n",
        "\n",
        "%matplotlib inline\n",
        "%config InlineBackend.figure_format='retina'\n",
        "sns.set(style='whitegrid', palette='muted', font_scale=1.2)"
      ],
      "metadata": {
        "id": "hbcvMJBil9Es"
      },
      "execution_count": 18,
      "outputs": []
    },
    {
      "cell_type": "markdown",
      "source": [
        "From [Google Aps](https://play.google.com/store/apps/) I selected from Top free apps\n",
        "\n",
        "\n"
      ],
      "metadata": {
        "id": "x9qDwLFaof63"
      }
    },
    {
      "cell_type": "code",
      "source": [
        "app_packages = [\n",
        "  'com.video.editor.filto',\n",
        "  'com.zhiliaoapp.musically',\n",
        "  'com.squareup.cash',\n",
        "  'com.espn.score_center',\n",
        "  'com.dailymoods.diary'\n",
        "]"
      ],
      "metadata": {
        "id": "j2EFU8Hqm1gk"
      },
      "execution_count": 19,
      "outputs": []
    },
    {
      "cell_type": "markdown",
      "source": [
        "Next using [Google-Play-Scraper](https://github.com/JoMingyu/google-play-scraper) library "
      ],
      "metadata": {
        "id": "LwmbXOMa0UOH"
      }
    },
    {
      "cell_type": "code",
      "source": [
        "# example\n",
        "result = app(\n",
        "    'com.anydo',\n",
        "    lang='en', # defaults to 'en'\n",
        "    country='us' # defaults to 'us'\n",
        ")\n",
        "print(result)"
      ],
      "metadata": {
        "id": "ao1EC_aZ1GSP",
        "colab": {
          "base_uri": "https://localhost:8080/"
        },
        "outputId": "7d217b7e-a47e-486a-d05e-780a5e2b9a12"
      },
      "execution_count": 20,
      "outputs": [
        {
          "output_type": "stream",
          "name": "stdout",
          "text": [
            "{'title': 'Any.do - To do list & Calendar', 'description': '🥇 <b>\"#1 to do list app out there”</b> - WSJ\\r\\n🏆 <b>Editor\\'s Choice</b> by Google\\r\\n\\r\\nOver 30M people rely on Any.do to stay organized and get more done.\\r\\nIt\\'s a simple to do list app with reminders, planner & calendar - all in one.\\r\\n\\r\\n<b>🥇 \"A MUST HAVE APP\" (Lifehacker, NYTimes, USA TODAY).</b>\\r\\n\\r\\nAny.do is a free to-do list, planner & calendar app for managing and organizing your daily tasks, to-do lists, notes, reminders, checklists, calendar events, grocery lists, and more.\\r\\n\\r\\nOrganize your tasks & to-do list\\r\\n\\r\\n• ADVANCED CALENDAR & DAILY PLANNER - Keep your to-do list and calendar events always at hand with our calendar widget. Any.do to-do list & planner support daily calendar view, 3-day Calendar view, Weekly calendar view & agenda view, with built-in reminders. Review and organize your calendar events and to do list side by side.\\r\\n\\r\\n• SYNCS SEAMLESSLY - Keeps all your to do list, tasks, reminders, notes, calendar & agenda always in sync so you’ll never forget a thing. Sync your phone’s calendar, google calendar, Facebook events, outlook calendar, or any other calendar so you don’t forget an important event. Even on your Wear OS device.\\r\\n\\r\\n• SET REMINDERS - One-time reminders, recurring reminders, Location reminders & voice reminders. NEW! Easily create tasks and get reminders in WhatsApp.\\r\\n\\r\\n• WORK TOGETHER - Share your to do list and assign tasks with your friends, family & colleagues from your task list to collaborate and get more done. \\r\\n\\r\\n---\\r\\n\\r\\nALL-IN-ONE PLANNER & CALENDAR APP FOR GETTING THINGS DONE\\r\\nCreate and set reminders with voice to your to do list. \\r\\nFor better task management flow we added a calendar integration to keep your agenda always up to date. \\r\\nFor better productivity, we added recurring reminders, location reminders, one-time reminder, sub-tasks, notes & file attachments. \\r\\nTo keep your to do list up to date, we’ve added a daily planner and focus mode.\\r\\n\\r\\nINTEGRATIONS\\r\\nAny.do To do list, Calendar, planner & Reminders Integrates with Google Calendar, Outlook, WhatsApp, Slack, Gmail, Google Tasks, Evernote, Trello, Wunderlist, Todoist, Zapier, Asana, Microsoft to-do, Salesforce, OneNote, Google Assistant, Amazon Alexa, Office 365, Exchange, Jira & More.\\r\\n\\r\\nTO DO LIST, CALENDAR, PLANNER & REMINDERS MADE SIMPLE\\r\\nDesigned to keep you on top of your to do list, tasks and calendar events with no hassle. With intuitive drag and drop of tasks, swiping to mark to-do\\'s as complete, and shaking your device to remove completed from your to do list - you can stay organized and enjoy every minute of it.\\r\\n\\r\\nPOWERFUL TO DO LIST TASK MANAGEMENT\\r\\nAdd a to do list item straight from your email / Gmail / Outlook inbox by forwarding do@Any.do. Attach files from your computer, Dropbox, or Google Drive to your to- tasks.\\r\\n\\r\\nDAILY PLANNER & LIFE ORGANIZER\\r\\nAny.do is a to do list, a calendar, an inbox, a notepad, a checklist, task list, a board for post its or sticky notes, a task & project management tool, a reminder app, a daily planner, a family organizer, an agenda, a bill planner and overall the simplest productivity tool you will ever have. \\r\\n\\r\\nSHARE LISTS, ASSIGN & ORGANIZE TASKS\\r\\nPlanning & organizing projects has never been easier. Now you can share lists between family members, assign tasks to each other, chat and much more. Any.do will help you and the people around you stay in-sync and get reminders so that you can focus on what matters, knowing you had a productive day and crossed off your to do list.\\r\\n\\r\\nGROCERY LIST & SHOPPING LIST\\r\\nAny.do task list, calendar, agenda, reminders & planner is also great for shopping lists at the grocery store. Simply create a list on Any.do, share it with your loved ones and see them adding their shopping items in real-time.', 'descriptionHTML': '🥇 <b>&quot;#1 to do list app out there”</b> - WSJ<br>🏆 <b>Editor&#39;s Choice</b> by Google<br><br>Over 30M people rely on Any.do to stay organized and get more done.<br>It&#39;s a simple to do list app with reminders, planner &amp; calendar - all in one.<br><br><b>🥇 &quot;A MUST HAVE APP&quot; (Lifehacker, NYTimes, USA TODAY).</b><br><br>Any.do is a free to-do list, planner &amp; calendar app for managing and organizing your daily tasks, to-do lists, notes, reminders, checklists, calendar events, grocery lists, and more.<br><br>Organize your tasks &amp; to-do list<br><br>• ADVANCED CALENDAR &amp; DAILY PLANNER - Keep your to-do list and calendar events always at hand with our calendar widget. Any.do to-do list &amp; planner support daily calendar view, 3-day Calendar view, Weekly calendar view &amp; agenda view, with built-in reminders. Review and organize your calendar events and to do list side by side.<br><br>• SYNCS SEAMLESSLY - Keeps all your to do list, tasks, reminders, notes, calendar &amp; agenda always in sync so you’ll never forget a thing. Sync your phone’s calendar, google calendar, Facebook events, outlook calendar, or any other calendar so you don’t forget an important event. Even on your Wear OS device.<br><br>• SET REMINDERS - One-time reminders, recurring reminders, Location reminders &amp; voice reminders. NEW! Easily create tasks and get reminders in WhatsApp.<br><br>• WORK TOGETHER - Share your to do list and assign tasks with your friends, family &amp; colleagues from your task list to collaborate and get more done. <br><br>---<br><br>ALL-IN-ONE PLANNER &amp; CALENDAR APP FOR GETTING THINGS DONE<br>Create and set reminders with voice to your to do list. <br>For better task management flow we added a calendar integration to keep your agenda always up to date. <br>For better productivity, we added recurring reminders, location reminders, one-time reminder, sub-tasks, notes &amp; file attachments. <br>To keep your to do list up to date, we’ve added a daily planner and focus mode.<br><br>INTEGRATIONS<br>Any.do To do list, Calendar, planner &amp; Reminders Integrates with Google Calendar, Outlook, WhatsApp, Slack, Gmail, Google Tasks, Evernote, Trello, Wunderlist, Todoist, Zapier, Asana, Microsoft to-do, Salesforce, OneNote, Google Assistant, Amazon Alexa, Office 365, Exchange, Jira &amp; More.<br><br>TO DO LIST, CALENDAR, PLANNER &amp; REMINDERS MADE SIMPLE<br>Designed to keep you on top of your to do list, tasks and calendar events with no hassle. With intuitive drag and drop of tasks, swiping to mark to-do&#39;s as complete, and shaking your device to remove completed from your to do list - you can stay organized and enjoy every minute of it.<br><br>POWERFUL TO DO LIST TASK MANAGEMENT<br>Add a to do list item straight from your email / Gmail / Outlook inbox by forwarding do@Any.do. Attach files from your computer, Dropbox, or Google Drive to your to- tasks.<br><br>DAILY PLANNER &amp; LIFE ORGANIZER<br>Any.do is a to do list, a calendar, an inbox, a notepad, a checklist, task list, a board for post its or sticky notes, a task &amp; project management tool, a reminder app, a daily planner, a family organizer, an agenda, a bill planner and overall the simplest productivity tool you will ever have. <br><br>SHARE LISTS, ASSIGN &amp; ORGANIZE TASKS<br>Planning &amp; organizing projects has never been easier. Now you can share lists between family members, assign tasks to each other, chat and much more. Any.do will help you and the people around you stay in-sync and get reminders so that you can focus on what matters, knowing you had a productive day and crossed off your to do list.<br><br>GROCERY LIST &amp; SHOPPING LIST<br>Any.do task list, calendar, agenda, reminders &amp; planner is also great for shopping lists at the grocery store. Simply create a list on Any.do, share it with your loved ones and see them adding their shopping items in real-time.', 'summary': 'Simple planner with to-do list, tasks, reminders, checklists, calendar & agenda', 'installs': '10,000,000+', 'minInstalls': 10000000, 'realInstalls': 28619039, 'score': 4.415409, 'ratings': 447970, 'reviews': 35802, 'histogram': [29074, 9708, 24089, 68261, 316822], 'price': 0, 'free': True, 'currency': 'USD', 'sale': False, 'saleTime': None, 'originalPrice': None, 'saleText': None, 'offersIAP': True, 'inAppProductPrice': '$0.99 - $83.88 per item', 'developer': 'Any.do To-do list & Calendar', 'developerId': '5304780265295461149', 'developerEmail': 'feedback+androidtodo@any.do', 'developerWebsite': 'https://www.any.do', 'developerAddress': 'Any.do Inc.\\n\\n156 Begin St. 22nd floor, Tel Aviv, Israel', 'privacyPolicy': 'https://www.any.do/privacy', 'genre': 'Productivity', 'genreId': 'PRODUCTIVITY', 'icon': 'https://play-lh.googleusercontent.com/rmzeq_sIQ0Ajs1R0Dx1FhZevoTgnWfY_enZ1AOkBRdhAjnwFqekzw-o-B2rTRyO0XA', 'headerImage': 'https://play-lh.googleusercontent.com/HMSRtseOEJF9U57Pos_3q2eW_D2_s8anCaJRTnT64b__ufotstirWqWzVnN17mPNzg', 'screenshots': ['https://play-lh.googleusercontent.com/Fz1OS6AOMrBD-E-nEtmHfRBu1FzMIlh946Bk7PWNEM3DLDy8471zKB9i32CDJTvA2w', 'https://play-lh.googleusercontent.com/M5OviuGdJ604d5vPqQ3hzyep5Mza8cZYNuIuHA6hBjc6ySvQrvUMetq8KZOeESzTj7M', 'https://play-lh.googleusercontent.com/bZLtFc2qSNVm_EUcJ17ipBQLNg7q_cSMS7QPBRjWr-egllbX0MrJkUW-PcxItQap5QQ', 'https://play-lh.googleusercontent.com/X9l45qmvKm0sKQn-5dMSR4xftbxB8XmAE_KeE5YbK8ApjHdOJxePf_YMkuo_8RfkpNs', 'https://play-lh.googleusercontent.com/SUxMet2MQoTfnVNtbdl8DHlgxdlG__9HQBRazNQ-BHaovGWLWKoe6wkl72cv_Dm1_Yg', 'https://play-lh.googleusercontent.com/DWumW_92aRD8rYZBFILaBb-ylQStYY-hvynqwWLaVEQQYOZM0dJeJKAnqngXlbmuz8lh', 'https://play-lh.googleusercontent.com/GWU3zGzSBIUf2Xh6pCp8e0x_BeTE7DOVXe5mYwaMp_zVTFsJZ18ZAqMFBtZr-PZlxw', 'https://play-lh.googleusercontent.com/xQHzI0JCOGoWk8ynwXtf0pCE0Vwm_v-F4TUp3CyKSxqB6UsSIe3Cc0ACF4onoJQUFYA', 'https://play-lh.googleusercontent.com/yIz6bKfMFh8oyRrqzUNriRSZqCkmp8l7KlnBM8j28MXzZBaSyM0x0pQLq5OfKkbTZHS1', 'https://play-lh.googleusercontent.com/ZurmRT_0PUMHOqibeLRrKTLGcAFaGNKT3htJ1FfVxIfDquRiL05DdYS-JMkTOc2Zul0', 'https://play-lh.googleusercontent.com/TSGo49hVv0ixNhuDnco41W8ju0FK5onz8PG_PnDqGPeb0fG7zwv_JCb6hExmHQl1s0di', 'https://play-lh.googleusercontent.com/nE4G3rCDC25G3KL9B8P33wgmKEXqeAx4OBMBl9KN24jSgOxIs2Y3oXCR3K08reZIjW8', 'https://play-lh.googleusercontent.com/epfPr_YAf-TPfZd1hUZJvQYIR8WAgiyUn_hYvZwGLzlw3HdqcHqwKG3sbyGowBFy2Mk', 'https://play-lh.googleusercontent.com/zrBteyUCEP5ZQRuKklvW_-XBtYHdjwcfzPCfxwfH_dQquIl9Gpea3l5oxopUpIi5txo', 'https://play-lh.googleusercontent.com/HUjSORDbvRCPcbf7b5QtU0YcTduPHoMAGzN3Sde2RuLti8LRRRK5CEwoPxk1AGSZFg', 'https://play-lh.googleusercontent.com/qN9Jr6sozIZvOdXXaIU7B7m1jgXxZDW-MHqktnOyOCzCT5sFf6T0ZHP5DDcxu05RALA', 'https://play-lh.googleusercontent.com/Hvtb-1xRQZ-uiQbDFAjXujKsXOZZOUwvsccehcGJOoPoQwTKeOx68Zbogm6iSTQjUg', 'https://play-lh.googleusercontent.com/PX4JTOivZ34ixXaW5HYida1yyR93c1eaQwNfkojowq4kIaUXRRR_fg87chb6rU91LPk', 'https://play-lh.googleusercontent.com/N1Y1NFXhD5jmWlSQAxJ0VUk2uS5Gr4z3kK0BhPFJFzTxP_Ahq2q5mUkijXyizpE0fho', 'https://play-lh.googleusercontent.com/swY8sL0DfehymkEoHKJbvSzuUhJzgaJJ_wJ7kDOE5-lqqQkF7l7RnBXsIStWCydOnOE', 'https://play-lh.googleusercontent.com/UYaWUJOSTQWb_7G4980pq81R-Yk6xJcWexFW3UCbBB78kucmP9l5jqWPhBNoCDQOAaE', 'https://play-lh.googleusercontent.com/zp_KLoczgn2QAvTP28zQCXf_EV5j6awluIdvvnxhr_Wq7KsYK5QeqkwmbT0YqrX9taiE'], 'video': None, 'videoImage': None, 'contentRating': 'Everyone', 'contentRatingDescription': None, 'adSupported': False, 'containsAds': False, 'released': 'Nov 10, 2011', 'updated': 1656415012, 'version': 'Varies with device', 'recentChanges': 'The new Any.do for Wear OS is finally here!\\r\\nNow you can:\\r\\n● Add tasks by voice or type them in on the go\\r\\n● See real-time notifications on your watch\\r\\n● Get and reset reminders directly from your wrist\\r\\n\\r\\nGet the latest version on your watch and keep yourself organized, easily!', 'recentChangesHTML': 'The new Any.do for Wear OS is finally here!<br>Now you can:<br>● Add tasks by voice or type them in on the go<br>● See real-time notifications on your watch<br>● Get and reset reminders directly from your wrist<br><br>Get the latest version on your watch and keep yourself organized, easily!', 'comments': [\"Looks good at first but lacks basic widgets. For example, you can't control the font size on the widget. In order for it to show you both tasks and calendar entries for your day, you'll need to devote nearly your whole screen to see it. No compact view to only show your day's items. There's a mandatory footer and header on the widget that takes up valuable real estate that cannot be turned off.\", \"Overall a good productivity enhancer. However, randomly refuses to stay open. I can call it up, it come on for 2seconds then disappears. Will work fine for a while, then starts to randomly shift months and years while I'm creating a schedule, then dissappears and won't stay up for more than 2seconds..... help! I've rebooted both app and phone ( galaxy s10).\", \"I'm about to delete this app. It's constantly updating on its own, and when it does, it erases all my lists!! The whole point of getting this app is so I won't forget things while I'm shopping and sometimes I don't get everything in one trip, so when it deletes my lists, I don't always remember what was left on there!\", \"Anydo keeps priorities in front of you, allows you to continually add, prioritize, delegate, move, and adjust tasks, thoughts, reminders, events, etc. in whatever way makes sense to you. It's motivating to check tasks off as you go through the day. It can be as precise or as relaxed as you set it to be. It works best for me by giving me a place to capture and instantly prioritize and plan things as they pop up. I love that it keeps me accountable and motivated without forcing a rigid schedule.\", \"I love this app and I really would give it a 5 star review, however, every few months the app stops syncing with my Alexa lists. So, in the meantime, while waiting for an update, I end up having to jump between 2 different apps to see everything that's been added to lists. The only reason I ever started using this app is because it was supposed to sync with Alexa consistently. That was supposed to make my life a whole lot easier. Instead I just end up frustrated.\", \"I tried it years ago and never really got it going. Then I switched to Wunderlist and became an organized machine! Now Wunderlist is being retired, so I thought I'd try again, guessing it would be much better by now and that my ability to use it to my advantage would be vastly improved. Nope. No ability for folders or some other way to group lists together so I don't have to flip through all my lists to find the one I want. Not even a list view to make them easier to find.\", \"As someone who really does a bad job making to do lists, this app really makes making them a breeze. Traditionally I don't make lists, or planners, etc because of the overhead in doing so; I'd rather spend that time doing the things I know I need to do. For a while now I've tried to find an app that would change that, that would make planning a breeze. After trying SEVERAL planning/TODO apps, this one quickly rose to the top. The interface is clean and simple and adding tasks takes no time at all - literally seconds. And above all, the Any Do moments make re-organanizing those tasks VERY simple and constantly keeps you on top of everything but in a non-intrusive way. Keep up the great work!\", \"Stupid popup reminding me to add reminders or do something covers my keypad and stays for a long time with no way to close it. I can't keep checked off items. It reminds me multiple times, every couple of seconds, to clear off the checked items, again blocking me. I can't move items between lists and if there is a way, it isn't easy enough for me to figure out. Cumbersome.\", \"Overall, the app is pretty good. I have a few complaints, but they don't imapct the basic usefulness of the app. 1. The app doesn't make a noise when a reminder comes up. 2. It has been sporadic and may not keep a reminder posted even when it hasn't been marked complete. 3. The format for setting a reminder day is clunky. Recurring reminders are especially difficult and may not even be available (for example, there is no way to set a recurring reminder to every 6 months).\", \"This app was great until the latest update and the grocery list changed. Now, it's just annoying to use. It takes more steps to get to what I want to do. The app forces a default list to display that I don't use, so I have to navigate back to the home screen to get to the grocery list. I preferred generic Shopping List where I would enter all items. I don't want a different list for each store. The predictive function stinks because you have to clear the field after you add the suggested text.\", \"It's a mess. I add new tasks and tag them. But they will randomly disappear, reappear. And the tags will disappear. Editing and adding them back in doesn't help because once a tag disappears you can't add it back in again. Disappearing tasks is the worst because there's no warning. They're just gone. They're not listed as complete, they just disappear. Sometimes they'll come back but sometimes I have to re-enter them...assuming I remember. I pay for this app, so the fact that the basic functionality of keeping my list intact is random and spotty is unacceptable. It may have something to do with syncing... no idea. But either way, I'm going to use another app because I just don't trust it anymore. These errors seem to be recent, like in the last 3 months.\", 'I had an older version of this app on my previous phone and loved it. However, the usability has gone way down somewhere in between.... You need to get rid of the analog clock thing when adding reminders. It takes way too many finger taps than is necessary to set a simple reminder for a given task, and annoyingly resets to the current day and time every time you try to edit a reminder you have created. This is confusing and makes it hard to use this app on-the-go, which is when I need it most..', 'Need to go up to premium to really make it useful. Premium is $30+. Otherwise it is a basic calendar that \"might\" be as good as the one the phone come with. It could be easier to use, but I\\'m not putting the time into figuring that out when I\\'m asked to upgrade. It comes up almost everytime I try to use 1 of the options. The simplest of free calendars allows me more options than the free part of this calendar. I just deleted it. Not worth going through error reports right in the beginning.', \"Would give 5 stars if it wasn't buggy and didn't cause me to miss a task. The calendar widget is a complete failure. It randomly removes some of the calendars that are synced and creates a duplicate of repeated tasks when they are marked as complete. The whole reason I subscribed to this app was because I needed to sync all my calendars and make my life easier by maintaining them all in one place and not miss any appointments or tasks. The app is useless if I can't rely on it to display and sync correctly. Fix the bugs and I'll reinstall and change to 5 stars.\", \"Product images show the month view at the top of the screen with dots, each one represents an event on that particular day. For android, the month view up top just shows the days of the week (no event indicators). Just an empty calendar. At the bottom of the screen there's a chronological list of events. Essentially, what I'm looking at is no more useful than list on a word document. Sure, there's a ton of bells and whistles, but the Android version is almost entirely useless as a calendar.\", \"I have used this for a while and, though it isn't a perfect fit, it does a great job of allowing me to schedule alarms for tasks and easy snoozing of those alarms. But they updated and fixed what wasn't broken. Now, all uncompleted tasks show in the task window with no delineation of whether they are recent, scheduled, or past due. Visually, it is very confusing. I'm probably going to dump this app. I would like a good calendar view of things scheduled on each day and it doesn't have that.\", \"I've used this app to manage personal and work tasks for over four years with no trouble. Over the last few weeks, I've noticed that tasks which I've modified (by adding or removing words) are randomly defaulting to what was there previously. This morning I saw a task blink away and return as the previous version of the task (missing the words I'd added). I rely on my tasks being accurate and have never had this happen until recently. Any hope of a fix?\", \"Eh, it wasn't for me. Maybe it's because I was using the free version, I didn't think this app was very intuitive at all. First of all, it's very annoying to not be able to set my own reminder times for tasks. I had the option to either choose 9 in the morning or 6 in the evening. What the heck? Secondly, the reminder feature goes off a little too often. Only one reminder is needed. I know I could have turned notifications off, but I did want reminders for my tasks. I should have been able to control the number of reminders. Also, it was pretty lame that I couldn't make multiple lists. I was just dissatisfied overall with my limited options. I deleted and am using another to do list app\", \"This app used to be great when paired with Alexa. Every once in awhile the sync would break but disabling the app and relinking the account would fix the issue. This has not been the case for the past several months. Any.do it is no longer syncing with Alexa and based on the reviews of the Alexa app it is affecting a lot of people, has been ongoing for weeks, and there doesn't appear to be a fix coming. Going to give anylist a try to see if it works with Alexa.\", 'Only rated 2 stars because of the ability to sync with the calendar apps on the phone and the ability to cross out any tasks once finished. However, the app is fairly simple with tasks laid out like a shopping or to do list with the inability to edit the timings of tasks. I had set an appointment for 1:30 but the app had automatically set it for 10:00 am and not allowing me to edit it. Also, it would have been nice for the tasks to be laid out in calendar format with color-coding options.', 'Very annoyed that I have to keep signing in and then it deleted all my lists. Ive been working on a master shopping list for several months. Im trying to track what my regular purchases so that I could have just opened an app such as this, gone down my list, and checked off what I needed. But when I logged back in AGAIN, my shopping lists were gone for the third time. When it works, its great. It just doesnt work enough and I dont have time for this.', 'It suddenly quit syncing. I\\'ve tried logging off and back on again with no luck. When I try to do it manually it just already says that it was synced \"just now\"...even though none of the things I have added show up. Never had this problem before. If I can\\'t get it resolved I will remove app and find something different. Very frustrating. Update: I did a FORCE STOP on the app, and it seems to be back to normal. It works for what I need (shopping list) but isn\\'t the easiest for rearranging the list, and the advertisement at the bottom of the list is very annoying and makes rearranging the list even more difficult.', \"This could be an AWESOME app. I upgraded so I could add stuff from my various devices. I like that I have my tasks, calendar and even grocery list in one place. However the app CONSTANTLY CRASHES!! EVERY SINGLE DAY it crashes and the ONLY way I can go back into it is if I force close it thru my settings and then open it back up. If that annoyance could be fixed, this could easily be a 5 star app that I would recommend. But at this point, I'm ready to cut my losses and go back to paper and pen!\", \"App is user friendly and does what is needed, and more, without being complicated. I've never had any issues with this app, and I've used it for several years via different Samsung phones. Being able to arrange items and list catagories is great. Being able to easily share a list is nice. I love that I can easily add and view notes on any chosen item. I can't imagine anyone being disappointed with Any.do. The app backs up data, as well, so I've never lost existing info when changing phones.\", \"I really do like this app, but I have horrible problems with it crashing constantly. The stability is AWFUL. Every time I try to check something off a list, it crashes. After every single item. While it's got great structure and is easy to use otherwise, it is the most unstable app I've ever used. Just uninstalled because even updating it didn't stop it from crashing. Fix the damn app; I've submitted enough feedback about it. Highly frustrating and not worth the time.\", \"A great app for keeping things straight! This is the only app I've ever paid for the premium, and it's worth it. It's great even without premium, but it makes remembering daily repetitive tasks much easier. I have trouble remembering things like that, or knowing if I've already done it. Only thing keeping me from putting 5 stars is that completed tasks have to be manually deleted after theyre marked complete, and reminders will randomly stop showing up. Maybe the update will fix the second one!\", \"Very robust program, with a good mix of simplicity and capability. HOWEVER, it doesn't seem to be able to display a list on my Wear OS watch (Ticwatch Pro 3). I can input lists from my watch which sync to my phone, but I can't see the lists on my watch after I send the list to my phone. It would be so much better if I could refer to that list on my watch, without having to take out my phone.\", 'Not bad, but it definitely prioritizes its \"task tracking\" purpose over its \"calendar\" function. Not for me since I\\'m looking for a calendar app. This doesn\\'t have a month-wide view where the appointments are shown on the day. Instead, you can show all the days of the month, but the \"appointments\" (or tasks) are shown in the bottom half of the page, and only up to one week.', \"The app looks great visually, and I really think the devs put a lot of time into it. But I'm not sure how it offers any real benefit over Google Calendar, considering the features are largely the same. Plus, this app still isn't available for the Samsung Galaxy Watch3. Truthfully, I would still be willing to pay $2.99 a month just to support the devs (the app really does look great), but there's no option to pay monthly, just one yearly price. If there was a monthly option, I'd likely subscribe.\", 'Fantastic UI with near perfect integration with calendar. I would love the ability to make tasks with no due dates that do not show up in the \"someday section.\" Things like my grocery list and books/movies to read I don\\'t need a date for and don\\'t want them in the way when I\\'m looking at date-specific tasks. Edit: thanks for the reply! Not sure if I am missing this somewhere, but I would love to see the ability to comment on tasks. Would really help with communication with my team. Thanks!', 'Love the interface, love the concept. But it lacks several key features on the Android side. The app both web, and the download version have sync issues, to keep your data inline you must keep the Web version up and the if you are using the downloaded app, you must keep it running to keep anything sync. Then you will lose any type of reoccurring tasks.   Love the sub task concept, really slick but if you cannot keep them in sync it does not work very well.   Another item that does not work, though I have requested it is that face that landscape mode is not coded for in all of the app, again in both the web and app version, makes it difficult to use on a tablet if you are switching to a keyboard for example.   So because of syncing issues, missing key landscape issues in several places in the app, lose of data due to syncing issues I had to uninstall the app. Lucky for me I am using 2 or 3 to do list so I have my primary one I am still using, so nothing lost except time. Though I was really hoping this one would pan out.   So though I am marking it as 1 start, I like the concept, and lots of it, but it is buggy,, and needs some serious testing to work out the syncing issues.', \"Smart Grocery List From Hell. While it might be handy to sort your list by catagory. Now everything is spread out all over the place. I wanted to turn the feature back off and it will not turn off. I like to sort things in the order I travel through the store. i know where everything I purchase is located. Well can't do that any.more. Having to change the category on each item i buy to Esential household item so that i can keep everything together. what a drag!\", \"So far so good but two improvements would allow me to delete the other planner app I have on my phone.  1) Reminders. I am looking for an app that would act like a print planner where I would list my tasks by day for the future. I'd like to be able to check an app for Mon., Tue, Weds., etc but without having to set a specific reminder for each. Monday should just be Monday without needing to set a time. Would be great to just have a list for the whole day.  2) For lists such as grocery lists, I don't see any setting to allow the app to stay on screen if you are currently in a store and trying to buy off your list. This is important!! No one wants to grocery shop and have to constantly unlock their screen to see the list.\", 'This was my favorite To Do app, so much so that I purchased the Premium subscription and then notifications stopped working on my phone and desktop.  I tried double checking all the notification settings on my phone, where I want it to work most and everything looks fine.  So I tried to cancel my Premium subscription and it seems impossible.  The instructions to \"manage your subscription settings\" doesn\\'t exist, so I can\\'t get out of the premium subscription.  Their FAQs don\\'t provide accurate instructions.  The desktop app refers you to the manage the subscription setting on your phone which doesn\\'t exist.    I was impressed with this app initially, so my so that I purchased the premium subscription but all the notifications stopped working and I forgot I even had the app at some point until they charged me $26 for the annual subscription, so now I want out but can\\'t get out.', \"I've been using this app for probably a year now. Loved it! Tho lately, it's slow! It used to auto save and now after every action you have to hit save sometimes it'll save on its own and a lot of times it doesn't even save! SO Going back to pen paper! I also really miss the grid view with the big blue boxes to represent all the folders. It would be nice if when you add things to the list, it can ask if you want it at the bottom or first on that list.\", \"I have the same recurring tasks to do every day. I need a to-do-list reminder to buzz me when it's time. The problem with this app, is that those reminder times somehow start drifting every day, giving me different times the next day! That is an annoying fail! Screw it, I'm going elsewhere. if I find a better app, I'll let you guys know. UPDATE : Suggestion did not work, and I found an app, that does not drift. I have moved on.\", 'I have had this app for almost a year. I was really enjoying it. I mostly used it for my grocery list and weekend to do list. However, I will be uninstalling it now because it deemed it appropriate to automatically add \"Welch\\'s brand Fruit Snacks!\" to my grocery list without permission. I encounter ads in a lot of places, but I refuse to use an app that panders to corporations in such a way that it starts adding branded products to my damn grocery list.', \"I found this app difficult to organize in a way that was useful for me. I couldn't separate which items showed up on my phone widget by topic, so it showed all of them which was unnecessary. I also found the reminders to plan my day annoying. It would be better with an improved calendar and prioritizing options. Last, it is extremely frustrating to try and unsubscribe from yearly renewal. It is buried deep in the info and the actual faq for this has a broken link. Super sketchy and rude.\", \"Sadly this is the best to do list I have seen.  Very glitchy.  Tasks done weeks ago magically show up and you have to delete them again.  A grocery list I didn't even want replicated itself 12 times.  My personal list replicated itself 13 times and when I deleted the second to last iteration of this it deleted everything I had ever typed into my lists.  Calendar support only available on ipad and android phone, not in browser window.  You have to trick the system into puting a date on items by setting a reminder and then going back in to deactivate the reminder.  I like that you can move items around however you want and that items left undone today stay in the today category instead of just floating out of the system.  It is odd that something as unfinished as this emerges as king of the hill in this category.  I would have thought that the global creativity and intelligence of humanity would have far surpassed this but apparently not.\", \"Great UI/UX but INCREDIBLY buggy, especially with repeating tasks. I'll set a reminder to occur every 2 weeks but when I set that task as complete it'll move the next reminder to 3 weeks from then, then after that 4 weeks from then, and so on. Having to go back and manually change the date each time renders the app useless. Also, $40 for basic features? No thanks. I'm sticking with the default Google calendar reminders.\"], 'appId': 'com.anydo', 'url': 'https://play.google.com/store/apps/details?id=com.anydo&hl=en&gl=us'}\n"
          ]
        }
      ]
    },
    {
      "cell_type": "code",
      "source": [
        "app_infos = []\n",
        "for ap in tqdm(app_packages):\n",
        "  info = app(ap, lang='en', country='us')\n",
        "  del info['comments']\n",
        "  app_infos.append(info)"
      ],
      "metadata": {
        "id": "O3BswoQ00eIp",
        "colab": {
          "base_uri": "https://localhost:8080/"
        },
        "outputId": "5557e2f8-c315-4922-a61b-012b6d0f193b"
      },
      "execution_count": 21,
      "outputs": [
        {
          "output_type": "stream",
          "name": "stderr",
          "text": [
            "100%|██████████| 5/5 [00:01<00:00,  4.82it/s]\n"
          ]
        }
      ]
    },
    {
      "cell_type": "code",
      "source": [
        "print(app_infos[0])"
      ],
      "metadata": {
        "id": "JClNuLaiCkpy",
        "colab": {
          "base_uri": "https://localhost:8080/"
        },
        "outputId": "82fe5bda-6f47-488f-a13d-074660ed594d"
      },
      "execution_count": 22,
      "outputs": [
        {
          "output_type": "stream",
          "name": "stdout",
          "text": [
            "{'title': 'Filto: Video Filter Editor', 'description': \"Best photo/video editor with customized aesthetic sparkle filters & VHS effects which updated weekly. The coolest video & photo editor with multi-style content for creators! It's the easiest to use on IG and Facebook!\\r\\n\\r\\nIn Filto, there is a large number of vintage filters, aesthetic sparkle effects,dynamic stickers and other advanced functions. You can trim your video as you need, you are the definition for your creatives! By the way, you can adjust the ratio of your works to match all social media like Instagram, Tik Tok and other social medias, can't wait to see your post attracting numerous likes!\\r\\n\\r\\n🌈[Aesthetic FILTERS]\\r\\nGlITCH: Distort your photos and videos in creative ways\\r\\nVHS: Full of the fashion with vintage vibe, let’s have party in the 80s~\\r\\nBLING: Sparkle effects make you shine like a superstar\\r\\nFILM: Bring you a fantasy visual feast with retro film\\r\\nLIGHT & SHADOW: Colorful your style and be more attractive\\r\\nFILTERS FOR FESTIVAL: From Valentine's Day, Easter, Halloween to Christmas, We always give you new ideas about your holiday!\\r\\n \\r\\n🔥[Swag EFFECTS]\\r\\nFISHEYE: Small lens to accompany you to see the big world.\\r\\nVINTIQUE:Ready for the romantic and sweet vibe? Come ’n Try!\\r\\nTWINKLE:Fairy Lights on winter nights.\\r\\nGLITCH: The most popular glitches, distortions, and punk effects show your fashion attitude.\\r\\nVAPOR WAVE: Strive for creating the coolest vapor tide, feel spellbound in vapor wave.\\r\\nMIRROR & SPLIT: Wanna make your creatives eye-catching? You deserve to try this!\\r\\nWAVE: Best decoration for your highlight moment.\\r\\n\\r\\n[Fancy DYNAMIC STICKERS]\\r\\nDYNAMIC EMOJI: Express your mood and attitude with fun.\\r\\nPOP ART: Breaking out of mediocrity, enhance your personality in your works.\\r\\nNEON SIGN: Lightning and fancy your ideals.\\r\\nVAPORWAVE: Create aesthetic & special Lo-Fi effects.\\r\\nWREATH: The halo of butterflies and the flower crowns highlight your fancy beauty.\\r\\n\\r\\n💎[EDITING features]\\r\\nTRIM VIDEO: You can trim your video and select the video clip you like best.\\r\\nSIZE CROPPING: Adjust the ratio to any size to share your creatives in Instagram, IGTV, YouTube, Facebook, Twitter, Douyin, etc.\\r\\nHD EXPORT: Exporting HD creatives and no watermark!\\r\\nCUSTOMIZATION: All the filters can be customized, you can adjust each variables to make your shots extraordinary.\\r\\nSCROLLBAR:Find the photos you need in the album more easily.\\r\\nZOOM BY GESTURES: Adjust the video &photo ratio on canvas as you like, you are the definition for your works.\\r\\nCOMPARISON: More obvious effect and more visible change.\\r\\n\\r\\n🎬[LAYOUTS & BACKGROUNDS]\\r\\nCOLOR PALETTE: Provides nearly 50 popular colors for you to choose, which can perfectly match the tones of your edits.\\r\\nBLUR: Make your creating scene structure more harmonious.\\r\\nLAYOUT & SIZE: Adjust the position and crop the video to any ratio you want.\\r\\n\\r\\n✨[HD EXPORT & SHARING]\\r\\nHD EXPORT: Professional photo & video editor help you export HD creatives which is clear and undamaged.\\r\\nNO WATERMARK: There is no watermark throughout your editing process, enjoy the free editing here!\\r\\nEASY TO SHARE: Share to all social apps Instagram, IGTV, Facebook, etc. Show your wonderful idea to the world!\\r\\n \\r\\nTerms of use:http://gpmedia.ufile.ucloud.com.cn/filto/termsofuse.html\\r\\nPrivacy policy: http://gpmedia.ufile.ucloud.com.cn/filto/privacypolicy.html\\r\\n \\r\\nContact us: \\r\\nMail: contact@pinsotech.com\\r\\nFacebook: https://www.facebook.com/Filto-304348330178551/\\r\\nWe believe that each of your feedback and opinions will make Filto better!\\r\\n \\r\\nBest regards,\\r\\nFilto Team\", 'descriptionHTML': 'Best photo/video editor with customized aesthetic sparkle filters &amp; VHS effects which updated weekly. The coolest video &amp; photo editor with multi-style content for creators! It&#39;s the easiest to use on IG and Facebook!<br><br>In Filto, there is a large number of vintage filters, aesthetic sparkle effects,dynamic stickers and other advanced functions. You can trim your video as you need, you are the definition for your creatives! By the way, you can adjust the ratio of your works to match all social media like Instagram, Tik Tok and other social medias, can&#39;t wait to see your post attracting numerous likes!<br><br>🌈[Aesthetic FILTERS]<br>GlITCH: Distort your photos and videos in creative ways<br>VHS: Full of the fashion with vintage vibe, let’s have party in the 80s~<br>BLING: Sparkle effects make you shine like a superstar<br>FILM: Bring you a fantasy visual feast with retro film<br>LIGHT &amp; SHADOW: Colorful your style and be more attractive<br>FILTERS FOR FESTIVAL: From Valentine&#39;s Day, Easter, Halloween to Christmas, We always give you new ideas about your holiday!<br> <br>🔥[Swag EFFECTS]<br>FISHEYE: Small lens to accompany you to see the big world.<br>VINTIQUE:Ready for the romantic and sweet vibe? Come ’n Try!<br>TWINKLE:Fairy Lights on winter nights.<br>GLITCH: The most popular glitches, distortions, and punk effects show your fashion attitude.<br>VAPOR WAVE: Strive for creating the coolest vapor tide, feel spellbound in vapor wave.<br>MIRROR &amp; SPLIT: Wanna make your creatives eye-catching? You deserve to try this!<br>WAVE: Best decoration for your highlight moment.<br><br>[Fancy DYNAMIC STICKERS]<br>DYNAMIC EMOJI: Express your mood and attitude with fun.<br>POP ART: Breaking out of mediocrity, enhance your personality in your works.<br>NEON SIGN: Lightning and fancy your ideals.<br>VAPORWAVE: Create aesthetic &amp; special Lo-Fi effects.<br>WREATH: The halo of butterflies and the flower crowns highlight your fancy beauty.<br><br>💎[EDITING features]<br>TRIM VIDEO: You can trim your video and select the video clip you like best.<br>SIZE CROPPING: Adjust the ratio to any size to share your creatives in Instagram, IGTV, YouTube, Facebook, Twitter, Douyin, etc.<br>HD EXPORT: Exporting HD creatives and no watermark!<br>CUSTOMIZATION: All the filters can be customized, you can adjust each variables to make your shots extraordinary.<br>SCROLLBAR:Find the photos you need in the album more easily.<br>ZOOM BY GESTURES: Adjust the video &amp;photo ratio on canvas as you like, you are the definition for your works.<br>COMPARISON: More obvious effect and more visible change.<br><br>🎬[LAYOUTS &amp; BACKGROUNDS]<br>COLOR PALETTE: Provides nearly 50 popular colors for you to choose, which can perfectly match the tones of your edits.<br>BLUR: Make your creating scene structure more harmonious.<br>LAYOUT &amp; SIZE: Adjust the position and crop the video to any ratio you want.<br><br>✨[HD EXPORT &amp; SHARING]<br>HD EXPORT: Professional photo &amp; video editor help you export HD creatives which is clear and undamaged.<br>NO WATERMARK: There is no watermark throughout your editing process, enjoy the free editing here!<br>EASY TO SHARE: Share to all social apps Instagram, IGTV, Facebook, etc. Show your wonderful idea to the world!<br> <br>Terms of use:http://gpmedia.ufile.ucloud.com.cn/filto/termsofuse.html<br>Privacy policy: http://gpmedia.ufile.ucloud.com.cn/filto/privacypolicy.html<br> <br>Contact us: <br>Mail: contact@pinsotech.com<br>Facebook: https://www.facebook.com/Filto-304348330178551/<br>We believe that each of your feedback and opinions will make Filto better!<br> <br>Best regards,<br>Filto Team', 'summary': 'Cool video maker with aesthetic filters, VHS effects, stickers, music and fonts.', 'installs': '5,000,000+', 'minInstalls': 5000000, 'realInstalls': 5159116, 'score': 4.2652173, 'ratings': 17062, 'reviews': 642, 'histogram': [2743, 293, 211, 211, 13567], 'price': 0, 'free': True, 'currency': 'USD', 'sale': False, 'saleTime': None, 'originalPrice': None, 'saleText': None, 'offersIAP': True, 'inAppProductPrice': '$1.99 - $35.99 per item', 'developer': 'Pinso.Inc', 'developerId': 'Pinso.Inc', 'developerEmail': 'contact@pinsotech.com', 'developerWebsite': 'http://www.filtoapp.co/', 'developerAddress': 'Room 1003 10/F Tower 1 LIPPO Centre 89 Queensway Admiralty HK', 'privacyPolicy': 'http://gpmedia.ufile.ucloud.com.cn/filto/privacypolicy.html', 'genre': 'Video Players & Editors', 'genreId': 'VIDEO_PLAYERS', 'icon': 'https://play-lh.googleusercontent.com/S8CAnPiuo6OQJJqA9LcIq2qSfflqkGaoMexAYLMupk4teCfgqUunqglVQqmb2QZgsTw', 'headerImage': 'https://play-lh.googleusercontent.com/O3GiYlqNJTcb_8CkePK5eJDMumyOP9EHxGdBi05wsDfkwHSgO_43lUKOSHoGIkqCPRYh', 'screenshots': ['https://play-lh.googleusercontent.com/4dlxNQUVaZb6fQKn_LCFDvCMg53YdEKfEGnho00K3M_mz0PUW9JDvcGjksVWc2nSqQ', 'https://play-lh.googleusercontent.com/AIlBTLrTsCo97Mz_zfudift5AzzERFN555KVsdOve7zVCkDjE5NN5LZkkuosRmI2YZ8O', 'https://play-lh.googleusercontent.com/veJk7MBKgV4oPFYFpftkO6ru1tGtlg_WkkEnOg3aYfviBYUluXD6Kfgc9B32tzUNQic', 'https://play-lh.googleusercontent.com/J3v8rhtiShGjiZWJ8aG6iiyFooXT0vmC4tOmF-p1rPYkwK4uGu4-R0_c9VTR8eYHDMl4', 'https://play-lh.googleusercontent.com/faNauJsIh179LUlXtA4yUJM3oFQ591bWcEGqT5fNURm-wQhKhFQKShfrKkbAmt2Dn9x5', 'https://play-lh.googleusercontent.com/dQegtcCubBIJoXGvT6LWOqyRSYRbAo2xvkmQv9al5Q3mLNgGw-SOraxVp_E62bZ1PQ', 'https://play-lh.googleusercontent.com/eEqlA08LLV0MIxKN1BVP47QsXX45O5zJooaBkGTR2Iv97Jx7lymkeSCTTw6xFMa-GQ', 'https://play-lh.googleusercontent.com/_f0Qf7BmLr0qK-JqTVQ7vfEwIuGKY_PQqu3ZfeWMEIQbwSPp0ai6u6G1b_EcAF0xSA', 'https://play-lh.googleusercontent.com/tlynTnY2oX8Mwm3tFNm8IaGpvrkcq8sFxTWU8LuQKihmeCCYrpFljI0X4ptMprGsNl8', 'https://play-lh.googleusercontent.com/IGCKSO7ozaWbRAnWjxpyW5d9N_yBbDnyA4hfdPPY_-qxaAeoVLUYXBfExBu-kP_PvL8', 'https://play-lh.googleusercontent.com/FzaCpIngkedt4fBQO5AJf2Vxzmnefhxspkw04XYKUSiFdXATw6V7jjROh6wkRLkz2Kce', 'https://play-lh.googleusercontent.com/e42be3M5WVWOKoAvBHEHQc9P3waETyChoKBOSDbleLsf0ulygxkCvyDEOaAHs5RjPAY'], 'video': None, 'videoImage': None, 'contentRating': 'Everyone', 'contentRatingDescription': None, 'adSupported': True, 'containsAds': True, 'released': 'Dec 2, 2020', 'updated': 1662036661, 'version': '2.2.3', 'recentChanges': None, 'recentChangesHTML': None, 'appId': 'com.video.editor.filto', 'url': 'https://play.google.com/store/apps/details?id=com.video.editor.filto&hl=en&gl=us'}\n"
          ]
        }
      ]
    },
    {
      "cell_type": "code",
      "source": [
        "def print_json(json_object):\n",
        "  \"\"\" Helper Function that shows data in more beautiful way\"\"\"\n",
        "  json_str = json.dumps(\n",
        "    json_object,\n",
        "    indent=2,\n",
        "    sort_keys=True,\n",
        "    default=str\n",
        "  )\n",
        "  print(highlight(json_str, JsonLexer(), TerminalFormatter()))"
      ],
      "metadata": {
        "id": "enze2T1_1ztB"
      },
      "execution_count": 23,
      "outputs": []
    },
    {
      "cell_type": "markdown",
      "source": [
        "'histogram' >> actual number of reviews by # of stars"
      ],
      "metadata": {
        "id": "PiiCe_LNGu63"
      }
    },
    {
      "cell_type": "code",
      "source": [
        "print_json(app_infos[0])"
      ],
      "metadata": {
        "id": "cD2IJPPE-zlS",
        "colab": {
          "base_uri": "https://localhost:8080/"
        },
        "outputId": "e412f340-7ca7-4b6a-8238-4769fcc7394f"
      },
      "execution_count": 24,
      "outputs": [
        {
          "output_type": "stream",
          "name": "stdout",
          "text": [
            "{\n",
            "  \u001b[94m\"adSupported\"\u001b[39;49;00m: \u001b[34mtrue\u001b[39;49;00m,\n",
            "  \u001b[94m\"appId\"\u001b[39;49;00m: \u001b[33m\"com.video.editor.filto\"\u001b[39;49;00m,\n",
            "  \u001b[94m\"containsAds\"\u001b[39;49;00m: \u001b[34mtrue\u001b[39;49;00m,\n",
            "  \u001b[94m\"contentRating\"\u001b[39;49;00m: \u001b[33m\"Everyone\"\u001b[39;49;00m,\n",
            "  \u001b[94m\"contentRatingDescription\"\u001b[39;49;00m: \u001b[34mnull\u001b[39;49;00m,\n",
            "  \u001b[94m\"currency\"\u001b[39;49;00m: \u001b[33m\"USD\"\u001b[39;49;00m,\n",
            "  \u001b[94m\"description\"\u001b[39;49;00m: \u001b[33m\"Best photo/video editor with customized aesthetic sparkle filters & VHS effects which updated weekly. The coolest video & photo editor with multi-style content for creators! It's the easiest to use on IG and Facebook!\\r\\n\\r\\nIn Filto, there is a large number of vintage filters, aesthetic sparkle effects,dynamic stickers and other advanced functions. You can trim your video as you need, you are the definition for your creatives! By the way, you can adjust the ratio of your works to match all social media like Instagram, Tik Tok and other social medias, can't wait to see your post attracting numerous likes!\\r\\n\\r\\n\\ud83c\\udf08[Aesthetic FILTERS]\\r\\nGlITCH: Distort your photos and videos in creative ways\\r\\nVHS: Full of the fashion with vintage vibe, let\\u2019s have party in the 80s~\\r\\nBLING: Sparkle effects make you shine like a superstar\\r\\nFILM: Bring you a fantasy visual feast with retro film\\r\\nLIGHT & SHADOW: Colorful your style and be more attractive\\r\\nFILTERS FOR FESTIVAL: From Valentine's Day, Easter, Halloween to Christmas, We always give you new ideas about your holiday!\\r\\n \\r\\n\\ud83d\\udd25[Swag EFFECTS]\\r\\nFISHEYE: Small lens to accompany you to see the big world.\\r\\nVINTIQUE:Ready for the romantic and sweet vibe? Come \\u2019n Try!\\r\\nTWINKLE:Fairy Lights on winter nights.\\r\\nGLITCH: The most popular glitches, distortions, and punk effects show your fashion attitude.\\r\\nVAPOR WAVE: Strive for creating the coolest vapor tide, feel spellbound in vapor wave.\\r\\nMIRROR & SPLIT: Wanna make your creatives eye-catching? You deserve to try this!\\r\\nWAVE: Best decoration for your highlight moment.\\r\\n\\r\\n[Fancy DYNAMIC STICKERS]\\r\\nDYNAMIC EMOJI: Express your mood and attitude with fun.\\r\\nPOP ART: Breaking out of mediocrity, enhance your personality in your works.\\r\\nNEON SIGN: Lightning and fancy your ideals.\\r\\nVAPORWAVE: Create aesthetic & special Lo-Fi effects.\\r\\nWREATH: The halo of butterflies and the flower crowns highlight your fancy beauty.\\r\\n\\r\\n\\ud83d\\udc8e[EDITING features]\\r\\nTRIM VIDEO: You can trim your video and select the video clip you like best.\\r\\nSIZE CROPPING: Adjust the ratio to any size to share your creatives in Instagram, IGTV, YouTube, Facebook, Twitter, Douyin, etc.\\r\\nHD EXPORT: Exporting HD creatives and no watermark!\\r\\nCUSTOMIZATION: All the filters can be customized, you can adjust each variables to make your shots extraordinary.\\r\\nSCROLLBAR:Find the photos you need in the album more easily.\\r\\nZOOM BY GESTURES: Adjust the video &photo ratio on canvas as you like, you are the definition for your works.\\r\\nCOMPARISON: More obvious effect and more visible change.\\r\\n\\r\\n\\ud83c\\udfac[LAYOUTS & BACKGROUNDS]\\r\\nCOLOR PALETTE: Provides nearly 50 popular colors for you to choose, which can perfectly match the tones of your edits.\\r\\nBLUR: Make your creating scene structure more harmonious.\\r\\nLAYOUT & SIZE: Adjust the position and crop the video to any ratio you want.\\r\\n\\r\\n\\u2728[HD EXPORT & SHARING]\\r\\nHD EXPORT: Professional photo & video editor help you export HD creatives which is clear and undamaged.\\r\\nNO WATERMARK: There is no watermark throughout your editing process, enjoy the free editing here!\\r\\nEASY TO SHARE: Share to all social apps Instagram, IGTV, Facebook, etc. Show your wonderful idea to the world!\\r\\n \\r\\nTerms of use:http://gpmedia.ufile.ucloud.com.cn/filto/termsofuse.html\\r\\nPrivacy policy: http://gpmedia.ufile.ucloud.com.cn/filto/privacypolicy.html\\r\\n \\r\\nContact us: \\r\\nMail: contact@pinsotech.com\\r\\nFacebook: https://www.facebook.com/Filto-304348330178551/\\r\\nWe believe that each of your feedback and opinions will make Filto better!\\r\\n \\r\\nBest regards,\\r\\nFilto Team\"\u001b[39;49;00m,\n",
            "  \u001b[94m\"descriptionHTML\"\u001b[39;49;00m: \u001b[33m\"Best photo/video editor with customized aesthetic sparkle filters &amp; VHS effects which updated weekly. The coolest video &amp; photo editor with multi-style content for creators! It&#39;s the easiest to use on IG and Facebook!<br><br>In Filto, there is a large number of vintage filters, aesthetic sparkle effects,dynamic stickers and other advanced functions. You can trim your video as you need, you are the definition for your creatives! By the way, you can adjust the ratio of your works to match all social media like Instagram, Tik Tok and other social medias, can&#39;t wait to see your post attracting numerous likes!<br><br>\\ud83c\\udf08[Aesthetic FILTERS]<br>GlITCH: Distort your photos and videos in creative ways<br>VHS: Full of the fashion with vintage vibe, let\\u2019s have party in the 80s~<br>BLING: Sparkle effects make you shine like a superstar<br>FILM: Bring you a fantasy visual feast with retro film<br>LIGHT &amp; SHADOW: Colorful your style and be more attractive<br>FILTERS FOR FESTIVAL: From Valentine&#39;s Day, Easter, Halloween to Christmas, We always give you new ideas about your holiday!<br> <br>\\ud83d\\udd25[Swag EFFECTS]<br>FISHEYE: Small lens to accompany you to see the big world.<br>VINTIQUE:Ready for the romantic and sweet vibe? Come \\u2019n Try!<br>TWINKLE:Fairy Lights on winter nights.<br>GLITCH: The most popular glitches, distortions, and punk effects show your fashion attitude.<br>VAPOR WAVE: Strive for creating the coolest vapor tide, feel spellbound in vapor wave.<br>MIRROR &amp; SPLIT: Wanna make your creatives eye-catching? You deserve to try this!<br>WAVE: Best decoration for your highlight moment.<br><br>[Fancy DYNAMIC STICKERS]<br>DYNAMIC EMOJI: Express your mood and attitude with fun.<br>POP ART: Breaking out of mediocrity, enhance your personality in your works.<br>NEON SIGN: Lightning and fancy your ideals.<br>VAPORWAVE: Create aesthetic &amp; special Lo-Fi effects.<br>WREATH: The halo of butterflies and the flower crowns highlight your fancy beauty.<br><br>\\ud83d\\udc8e[EDITING features]<br>TRIM VIDEO: You can trim your video and select the video clip you like best.<br>SIZE CROPPING: Adjust the ratio to any size to share your creatives in Instagram, IGTV, YouTube, Facebook, Twitter, Douyin, etc.<br>HD EXPORT: Exporting HD creatives and no watermark!<br>CUSTOMIZATION: All the filters can be customized, you can adjust each variables to make your shots extraordinary.<br>SCROLLBAR:Find the photos you need in the album more easily.<br>ZOOM BY GESTURES: Adjust the video &amp;photo ratio on canvas as you like, you are the definition for your works.<br>COMPARISON: More obvious effect and more visible change.<br><br>\\ud83c\\udfac[LAYOUTS &amp; BACKGROUNDS]<br>COLOR PALETTE: Provides nearly 50 popular colors for you to choose, which can perfectly match the tones of your edits.<br>BLUR: Make your creating scene structure more harmonious.<br>LAYOUT &amp; SIZE: Adjust the position and crop the video to any ratio you want.<br><br>\\u2728[HD EXPORT &amp; SHARING]<br>HD EXPORT: Professional photo &amp; video editor help you export HD creatives which is clear and undamaged.<br>NO WATERMARK: There is no watermark throughout your editing process, enjoy the free editing here!<br>EASY TO SHARE: Share to all social apps Instagram, IGTV, Facebook, etc. Show your wonderful idea to the world!<br> <br>Terms of use:http://gpmedia.ufile.ucloud.com.cn/filto/termsofuse.html<br>Privacy policy: http://gpmedia.ufile.ucloud.com.cn/filto/privacypolicy.html<br> <br>Contact us: <br>Mail: contact@pinsotech.com<br>Facebook: https://www.facebook.com/Filto-304348330178551/<br>We believe that each of your feedback and opinions will make Filto better!<br> <br>Best regards,<br>Filto Team\"\u001b[39;49;00m,\n",
            "  \u001b[94m\"developer\"\u001b[39;49;00m: \u001b[33m\"Pinso.Inc\"\u001b[39;49;00m,\n",
            "  \u001b[94m\"developerAddress\"\u001b[39;49;00m: \u001b[33m\"Room 1003 10/F Tower 1 LIPPO Centre 89 Queensway Admiralty HK\"\u001b[39;49;00m,\n",
            "  \u001b[94m\"developerEmail\"\u001b[39;49;00m: \u001b[33m\"contact@pinsotech.com\"\u001b[39;49;00m,\n",
            "  \u001b[94m\"developerId\"\u001b[39;49;00m: \u001b[33m\"Pinso.Inc\"\u001b[39;49;00m,\n",
            "  \u001b[94m\"developerWebsite\"\u001b[39;49;00m: \u001b[33m\"http://www.filtoapp.co/\"\u001b[39;49;00m,\n",
            "  \u001b[94m\"free\"\u001b[39;49;00m: \u001b[34mtrue\u001b[39;49;00m,\n",
            "  \u001b[94m\"genre\"\u001b[39;49;00m: \u001b[33m\"Video Players & Editors\"\u001b[39;49;00m,\n",
            "  \u001b[94m\"genreId\"\u001b[39;49;00m: \u001b[33m\"VIDEO_PLAYERS\"\u001b[39;49;00m,\n",
            "  \u001b[94m\"headerImage\"\u001b[39;49;00m: \u001b[33m\"https://play-lh.googleusercontent.com/O3GiYlqNJTcb_8CkePK5eJDMumyOP9EHxGdBi05wsDfkwHSgO_43lUKOSHoGIkqCPRYh\"\u001b[39;49;00m,\n",
            "  \u001b[94m\"histogram\"\u001b[39;49;00m: [\n",
            "    \u001b[34m2743\u001b[39;49;00m,\n",
            "    \u001b[34m293\u001b[39;49;00m,\n",
            "    \u001b[34m211\u001b[39;49;00m,\n",
            "    \u001b[34m211\u001b[39;49;00m,\n",
            "    \u001b[34m13567\u001b[39;49;00m\n",
            "  ],\n",
            "  \u001b[94m\"icon\"\u001b[39;49;00m: \u001b[33m\"https://play-lh.googleusercontent.com/S8CAnPiuo6OQJJqA9LcIq2qSfflqkGaoMexAYLMupk4teCfgqUunqglVQqmb2QZgsTw\"\u001b[39;49;00m,\n",
            "  \u001b[94m\"inAppProductPrice\"\u001b[39;49;00m: \u001b[33m\"$1.99 - $35.99 per item\"\u001b[39;49;00m,\n",
            "  \u001b[94m\"installs\"\u001b[39;49;00m: \u001b[33m\"5,000,000+\"\u001b[39;49;00m,\n",
            "  \u001b[94m\"minInstalls\"\u001b[39;49;00m: \u001b[34m5000000\u001b[39;49;00m,\n",
            "  \u001b[94m\"offersIAP\"\u001b[39;49;00m: \u001b[34mtrue\u001b[39;49;00m,\n",
            "  \u001b[94m\"originalPrice\"\u001b[39;49;00m: \u001b[34mnull\u001b[39;49;00m,\n",
            "  \u001b[94m\"price\"\u001b[39;49;00m: \u001b[34m0\u001b[39;49;00m,\n",
            "  \u001b[94m\"privacyPolicy\"\u001b[39;49;00m: \u001b[33m\"http://gpmedia.ufile.ucloud.com.cn/filto/privacypolicy.html\"\u001b[39;49;00m,\n",
            "  \u001b[94m\"ratings\"\u001b[39;49;00m: \u001b[34m17062\u001b[39;49;00m,\n",
            "  \u001b[94m\"realInstalls\"\u001b[39;49;00m: \u001b[34m5159116\u001b[39;49;00m,\n",
            "  \u001b[94m\"recentChanges\"\u001b[39;49;00m: \u001b[34mnull\u001b[39;49;00m,\n",
            "  \u001b[94m\"recentChangesHTML\"\u001b[39;49;00m: \u001b[34mnull\u001b[39;49;00m,\n",
            "  \u001b[94m\"released\"\u001b[39;49;00m: \u001b[33m\"Dec 2, 2020\"\u001b[39;49;00m,\n",
            "  \u001b[94m\"reviews\"\u001b[39;49;00m: \u001b[34m642\u001b[39;49;00m,\n",
            "  \u001b[94m\"sale\"\u001b[39;49;00m: \u001b[34mfalse\u001b[39;49;00m,\n",
            "  \u001b[94m\"saleText\"\u001b[39;49;00m: \u001b[34mnull\u001b[39;49;00m,\n",
            "  \u001b[94m\"saleTime\"\u001b[39;49;00m: \u001b[34mnull\u001b[39;49;00m,\n",
            "  \u001b[94m\"score\"\u001b[39;49;00m: \u001b[34m4.2652173\u001b[39;49;00m,\n",
            "  \u001b[94m\"screenshots\"\u001b[39;49;00m: [\n",
            "    \u001b[33m\"https://play-lh.googleusercontent.com/4dlxNQUVaZb6fQKn_LCFDvCMg53YdEKfEGnho00K3M_mz0PUW9JDvcGjksVWc2nSqQ\"\u001b[39;49;00m,\n",
            "    \u001b[33m\"https://play-lh.googleusercontent.com/AIlBTLrTsCo97Mz_zfudift5AzzERFN555KVsdOve7zVCkDjE5NN5LZkkuosRmI2YZ8O\"\u001b[39;49;00m,\n",
            "    \u001b[33m\"https://play-lh.googleusercontent.com/veJk7MBKgV4oPFYFpftkO6ru1tGtlg_WkkEnOg3aYfviBYUluXD6Kfgc9B32tzUNQic\"\u001b[39;49;00m,\n",
            "    \u001b[33m\"https://play-lh.googleusercontent.com/J3v8rhtiShGjiZWJ8aG6iiyFooXT0vmC4tOmF-p1rPYkwK4uGu4-R0_c9VTR8eYHDMl4\"\u001b[39;49;00m,\n",
            "    \u001b[33m\"https://play-lh.googleusercontent.com/faNauJsIh179LUlXtA4yUJM3oFQ591bWcEGqT5fNURm-wQhKhFQKShfrKkbAmt2Dn9x5\"\u001b[39;49;00m,\n",
            "    \u001b[33m\"https://play-lh.googleusercontent.com/dQegtcCubBIJoXGvT6LWOqyRSYRbAo2xvkmQv9al5Q3mLNgGw-SOraxVp_E62bZ1PQ\"\u001b[39;49;00m,\n",
            "    \u001b[33m\"https://play-lh.googleusercontent.com/eEqlA08LLV0MIxKN1BVP47QsXX45O5zJooaBkGTR2Iv97Jx7lymkeSCTTw6xFMa-GQ\"\u001b[39;49;00m,\n",
            "    \u001b[33m\"https://play-lh.googleusercontent.com/_f0Qf7BmLr0qK-JqTVQ7vfEwIuGKY_PQqu3ZfeWMEIQbwSPp0ai6u6G1b_EcAF0xSA\"\u001b[39;49;00m,\n",
            "    \u001b[33m\"https://play-lh.googleusercontent.com/tlynTnY2oX8Mwm3tFNm8IaGpvrkcq8sFxTWU8LuQKihmeCCYrpFljI0X4ptMprGsNl8\"\u001b[39;49;00m,\n",
            "    \u001b[33m\"https://play-lh.googleusercontent.com/IGCKSO7ozaWbRAnWjxpyW5d9N_yBbDnyA4hfdPPY_-qxaAeoVLUYXBfExBu-kP_PvL8\"\u001b[39;49;00m,\n",
            "    \u001b[33m\"https://play-lh.googleusercontent.com/FzaCpIngkedt4fBQO5AJf2Vxzmnefhxspkw04XYKUSiFdXATw6V7jjROh6wkRLkz2Kce\"\u001b[39;49;00m,\n",
            "    \u001b[33m\"https://play-lh.googleusercontent.com/e42be3M5WVWOKoAvBHEHQc9P3waETyChoKBOSDbleLsf0ulygxkCvyDEOaAHs5RjPAY\"\u001b[39;49;00m\n",
            "  ],\n",
            "  \u001b[94m\"summary\"\u001b[39;49;00m: \u001b[33m\"Cool video maker with aesthetic filters, VHS effects, stickers, music and fonts.\"\u001b[39;49;00m,\n",
            "  \u001b[94m\"title\"\u001b[39;49;00m: \u001b[33m\"Filto: Video Filter Editor\"\u001b[39;49;00m,\n",
            "  \u001b[94m\"updated\"\u001b[39;49;00m: \u001b[34m1662036661\u001b[39;49;00m,\n",
            "  \u001b[94m\"url\"\u001b[39;49;00m: \u001b[33m\"https://play.google.com/store/apps/details?id=com.video.editor.filto&hl=en&gl=us\"\u001b[39;49;00m,\n",
            "  \u001b[94m\"version\"\u001b[39;49;00m: \u001b[33m\"2.2.3\"\u001b[39;49;00m,\n",
            "  \u001b[94m\"video\"\u001b[39;49;00m: \u001b[34mnull\u001b[39;49;00m,\n",
            "  \u001b[94m\"videoImage\"\u001b[39;49;00m: \u001b[34mnull\u001b[39;49;00m\n",
            "}\n",
            "\n"
          ]
        }
      ]
    },
    {
      "cell_type": "code",
      "source": [
        "app_infos_df = pd.DataFrame(app_infos)\n",
        "app_infos_df.to_csv('apps.csv', index=None, header=True)"
      ],
      "metadata": {
        "id": "AM4adKDiC6MF"
      },
      "execution_count": 25,
      "outputs": []
    },
    {
      "cell_type": "markdown",
      "source": [
        "## Get App Reviews"
      ],
      "metadata": {
        "id": "jF5fZuPuJXam"
      }
    },
    {
      "cell_type": "code",
      "source": [
        "app_reviews = []\n",
        "for ap in tqdm(app_packages):\n",
        "  for score in list(range(1, 6)):\n",
        "    for sort_order in [Sort.MOST_RELEVANT, Sort.NEWEST]:\n",
        "      rvs, _ = reviews(\n",
        "        ap,\n",
        "        lang='en',\n",
        "        country='us',\n",
        "        sort=sort_order,\n",
        "        count= 400 if score == 3 else 200,\n",
        "        filter_score_with=score\n",
        "      )\n",
        "      for r in rvs:\n",
        "        r['sortOrder'] = 'most_relevant' if sort_order == Sort.MOST_RELEVANT else 'newest'\n",
        "        r['appId'] = ap\n",
        "      app_reviews.extend(rvs)"
      ],
      "metadata": {
        "id": "u3zp_ealI7qG",
        "colab": {
          "base_uri": "https://localhost:8080/"
        },
        "outputId": "061bd715-1c8a-458f-8874-872c1f32c138"
      },
      "execution_count": 26,
      "outputs": [
        {
          "output_type": "stream",
          "name": "stderr",
          "text": [
            "100%|██████████| 5/5 [00:19<00:00,  3.90s/it]\n"
          ]
        }
      ]
    },
    {
      "cell_type": "code",
      "source": [
        "print_json(app_reviews[325])"
      ],
      "metadata": {
        "id": "DkxLq_B5I8SD",
        "colab": {
          "base_uri": "https://localhost:8080/"
        },
        "outputId": "c2c86b45-0b3d-4d6f-9506-aec02c711909"
      },
      "execution_count": 27,
      "outputs": [
        {
          "output_type": "stream",
          "name": "stdout",
          "text": [
            "{\n",
            "  \u001b[94m\"appId\"\u001b[39;49;00m: \u001b[33m\"com.video.editor.filto\"\u001b[39;49;00m,\n",
            "  \u001b[94m\"at\"\u001b[39;49;00m: \u001b[33m\"2022-09-16 05:41:44\"\u001b[39;49;00m,\n",
            "  \u001b[94m\"content\"\u001b[39;49;00m: \u001b[33m\"-2 actually. Total lie. Absolutely does not as it show in ad.\"\u001b[39;49;00m,\n",
            "  \u001b[94m\"repliedAt\"\u001b[39;49;00m: \u001b[34mnull\u001b[39;49;00m,\n",
            "  \u001b[94m\"replyContent\"\u001b[39;49;00m: \u001b[34mnull\u001b[39;49;00m,\n",
            "  \u001b[94m\"reviewCreatedVersion\"\u001b[39;49;00m: \u001b[34mnull\u001b[39;49;00m,\n",
            "  \u001b[94m\"reviewId\"\u001b[39;49;00m: \u001b[33m\"14615460-bfb9-4b1e-a449-cd07a4c78b09\"\u001b[39;49;00m,\n",
            "  \u001b[94m\"score\"\u001b[39;49;00m: \u001b[34m1\u001b[39;49;00m,\n",
            "  \u001b[94m\"sortOrder\"\u001b[39;49;00m: \u001b[33m\"newest\"\u001b[39;49;00m,\n",
            "  \u001b[94m\"thumbsUpCount\"\u001b[39;49;00m: \u001b[34m2\u001b[39;49;00m,\n",
            "  \u001b[94m\"userImage\"\u001b[39;49;00m: \u001b[33m\"https://play-lh.googleusercontent.com/a/ALm5wu3ZyrOhN3anWqdM1KeY_GeThMW5e9ZaEvCkPNRv=mo\"\u001b[39;49;00m,\n",
            "  \u001b[94m\"userName\"\u001b[39;49;00m: \u001b[33m\"mit nat\"\u001b[39;49;00m\n",
            "}\n",
            "\n"
          ]
        }
      ]
    },
    {
      "cell_type": "code",
      "source": [
        "app_reviews_df = pd.DataFrame(app_reviews)\n",
        "app_reviews_df.to_csv('top_reviews.csv', index=None, header=True)"
      ],
      "metadata": {
        "id": "nZNIT81oJBqB"
      },
      "execution_count": 28,
      "outputs": []
    },
    {
      "cell_type": "code",
      "source": [],
      "metadata": {
        "id": "oCgZLB7SgPeA"
      },
      "execution_count": 28,
      "outputs": []
    }
  ]
}