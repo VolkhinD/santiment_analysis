{
  "nbformat": 4,
  "nbformat_minor": 0,
  "metadata": {
    "colab": {
      "provenance": [],
      "collapsed_sections": [],
      "mount_file_id": "1qR4g93bQn_KNPbpR-W1pwOzbiDt5tvVS",
      "authorship_tag": "ABX9TyOWUTGxwVm7PHZm3/BvdEze",
      "include_colab_link": true
    },
    "kernelspec": {
      "name": "python3",
      "display_name": "Python 3"
    },
    "language_info": {
      "name": "python"
    }
  },
  "cells": [
    {
      "cell_type": "markdown",
      "metadata": {
        "id": "view-in-github",
        "colab_type": "text"
      },
      "source": [
        "<a href=\"https://colab.research.google.com/github/VolkhinD/santiment_analysis/blob/main/sentiment_custom_dataset.ipynb\" target=\"_parent\"><img src=\"https://colab.research.google.com/assets/colab-badge.svg\" alt=\"Open In Colab\"/></a>"
      ]
    },
    {
      "cell_type": "code",
      "source": [
        "%%capture\n",
        "!pip install google-play-scraper"
      ],
      "metadata": {
        "id": "osBfFuX2lrZ2"
      },
      "execution_count": 17,
      "outputs": []
    },
    {
      "cell_type": "code",
      "source": [
        "import json\n",
        "import pandas as pd\n",
        "from tqdm import tqdm\n",
        "import seaborn as sns\n",
        "import matplotlib.pyplot as plt\n",
        "\n",
        "from pygments import highlight\n",
        "from pygments.lexers import JsonLexer\n",
        "from pygments.formatters import TerminalFormatter\n",
        "\n",
        "from google_play_scraper import Sort, reviews, app, reviews_all\n",
        "\n",
        "%matplotlib inline\n",
        "%config InlineBackend.figure_format='retina'\n",
        "sns.set(style='whitegrid', palette='muted', font_scale=1.2)"
      ],
      "metadata": {
        "id": "hbcvMJBil9Es"
      },
      "execution_count": 18,
      "outputs": []
    },
    {
      "cell_type": "markdown",
      "source": [
        "From [Google Aps](https://play.google.com/store/apps/) I selected from Top free apps\n",
        "\n",
        "\n"
      ],
      "metadata": {
        "id": "x9qDwLFaof63"
      }
    },
    {
      "cell_type": "code",
      "source": [
        "app_packages = [\n",
        "  'com.video.editor.filto',\n",
        "  'com.zhiliaoapp.musically',\n",
        "  'com.squareup.cash',\n",
        "  'com.espn.score_center',\n",
        "  'com.dailymoods.diary'\n",
        "]"
      ],
      "metadata": {
        "id": "j2EFU8Hqm1gk"
      },
      "execution_count": 19,
      "outputs": []
    },
    {
      "cell_type": "markdown",
      "source": [
        "Next using [Google-Play-Scraper](https://github.com/JoMingyu/google-play-scraper) library "
      ],
      "metadata": {
        "id": "LwmbXOMa0UOH"
      }
    },
    {
      "cell_type": "code",
      "source": [
        "app_infos = []\n",
        "for ap in tqdm(app_packages):\n",
        "  info = app(ap, lang='en', country='us')\n",
        "  del info['comments']\n",
        "  app_infos.append(info)"
      ],
      "metadata": {
        "id": "O3BswoQ00eIp",
        "colab": {
          "base_uri": "https://localhost:8080/"
        },
        "outputId": "5557e2f8-c315-4922-a61b-012b6d0f193b"
      },
      "execution_count": 21,
      "outputs": [
        {
          "output_type": "stream",
          "name": "stderr",
          "text": [
            "100%|██████████| 5/5 [00:01<00:00,  4.82it/s]\n"
          ]
        }
      ]
    },
    {
      "cell_type": "code",
      "source": [
        "def print_json(json_object):\n",
        "  \"\"\" Helper Function that shows data in more beautiful way\"\"\"\n",
        "  json_str = json.dumps(\n",
        "    json_object,\n",
        "    indent=2,\n",
        "    sort_keys=True,\n",
        "    default=str\n",
        "  )\n",
        "  print(highlight(json_str, JsonLexer(), TerminalFormatter()))"
      ],
      "metadata": {
        "id": "enze2T1_1ztB"
      },
      "execution_count": 23,
      "outputs": []
    },
    {
      "cell_type": "markdown",
      "source": [
        "'histogram' >> actual number of reviews by # of stars"
      ],
      "metadata": {
        "id": "PiiCe_LNGu63"
      }
    },
    {
      "cell_type": "code",
      "source": [
        "print_json(app_infos[0])"
      ],
      "metadata": {
        "id": "cD2IJPPE-zlS",
        "colab": {
          "base_uri": "https://localhost:8080/"
        },
        "outputId": "e412f340-7ca7-4b6a-8238-4769fcc7394f"
      },
      "execution_count": 24,
      "outputs": [
        {
          "output_type": "stream",
          "name": "stdout",
          "text": [
            "{\n",
            "  \u001b[94m\"adSupported\"\u001b[39;49;00m: \u001b[34mtrue\u001b[39;49;00m,\n",
            "  \u001b[94m\"appId\"\u001b[39;49;00m: \u001b[33m\"com.video.editor.filto\"\u001b[39;49;00m,\n",
            "  \u001b[94m\"containsAds\"\u001b[39;49;00m: \u001b[34mtrue\u001b[39;49;00m,\n",
            "  \u001b[94m\"contentRating\"\u001b[39;49;00m: \u001b[33m\"Everyone\"\u001b[39;49;00m,\n",
            "  \u001b[94m\"contentRatingDescription\"\u001b[39;49;00m: \u001b[34mnull\u001b[39;49;00m,\n",
            "  \u001b[94m\"currency\"\u001b[39;49;00m: \u001b[33m\"USD\"\u001b[39;49;00m,\n",
            "  \u001b[94m\"description\"\u001b[39;49;00m: \u001b[33m\"Best photo/video editor with customized aesthetic sparkle filters & VHS effects which updated weekly. The coolest video & photo editor with multi-style content for creators! It's the easiest to use on IG and Facebook!\\r\\n\\r\\nIn Filto, there is a large number of vintage filters, aesthetic sparkle effects,dynamic stickers and other advanced functions. You can trim your video as you need, you are the definition for your creatives! By the way, you can adjust the ratio of your works to match all social media like Instagram, Tik Tok and other social medias, can't wait to see your post attracting numerous likes!\\r\\n\\r\\n\\ud83c\\udf08[Aesthetic FILTERS]\\r\\nGlITCH: Distort your photos and videos in creative ways\\r\\nVHS: Full of the fashion with vintage vibe, let\\u2019s have party in the 80s~\\r\\nBLING: Sparkle effects make you shine like a superstar\\r\\nFILM: Bring you a fantasy visual feast with retro film\\r\\nLIGHT & SHADOW: Colorful your style and be more attractive\\r\\nFILTERS FOR FESTIVAL: From Valentine's Day, Easter, Halloween to Christmas, We always give you new ideas about your holiday!\\r\\n \\r\\n\\ud83d\\udd25[Swag EFFECTS]\\r\\nFISHEYE: Small lens to accompany you to see the big world.\\r\\nVINTIQUE:Ready for the romantic and sweet vibe? Come \\u2019n Try!\\r\\nTWINKLE:Fairy Lights on winter nights.\\r\\nGLITCH: The most popular glitches, distortions, and punk effects show your fashion attitude.\\r\\nVAPOR WAVE: Strive for creating the coolest vapor tide, feel spellbound in vapor wave.\\r\\nMIRROR & SPLIT: Wanna make your creatives eye-catching? You deserve to try this!\\r\\nWAVE: Best decoration for your highlight moment.\\r\\n\\r\\n[Fancy DYNAMIC STICKERS]\\r\\nDYNAMIC EMOJI: Express your mood and attitude with fun.\\r\\nPOP ART: Breaking out of mediocrity, enhance your personality in your works.\\r\\nNEON SIGN: Lightning and fancy your ideals.\\r\\nVAPORWAVE: Create aesthetic & special Lo-Fi effects.\\r\\nWREATH: The halo of butterflies and the flower crowns highlight your fancy beauty.\\r\\n\\r\\n\\ud83d\\udc8e[EDITING features]\\r\\nTRIM VIDEO: You can trim your video and select the video clip you like best.\\r\\nSIZE CROPPING: Adjust the ratio to any size to share your creatives in Instagram, IGTV, YouTube, Facebook, Twitter, Douyin, etc.\\r\\nHD EXPORT: Exporting HD creatives and no watermark!\\r\\nCUSTOMIZATION: All the filters can be customized, you can adjust each variables to make your shots extraordinary.\\r\\nSCROLLBAR:Find the photos you need in the album more easily.\\r\\nZOOM BY GESTURES: Adjust the video &photo ratio on canvas as you like, you are the definition for your works.\\r\\nCOMPARISON: More obvious effect and more visible change.\\r\\n\\r\\n\\ud83c\\udfac[LAYOUTS & BACKGROUNDS]\\r\\nCOLOR PALETTE: Provides nearly 50 popular colors for you to choose, which can perfectly match the tones of your edits.\\r\\nBLUR: Make your creating scene structure more harmonious.\\r\\nLAYOUT & SIZE: Adjust the position and crop the video to any ratio you want.\\r\\n\\r\\n\\u2728[HD EXPORT & SHARING]\\r\\nHD EXPORT: Professional photo & video editor help you export HD creatives which is clear and undamaged.\\r\\nNO WATERMARK: There is no watermark throughout your editing process, enjoy the free editing here!\\r\\nEASY TO SHARE: Share to all social apps Instagram, IGTV, Facebook, etc. Show your wonderful idea to the world!\\r\\n \\r\\nTerms of use:http://gpmedia.ufile.ucloud.com.cn/filto/termsofuse.html\\r\\nPrivacy policy: http://gpmedia.ufile.ucloud.com.cn/filto/privacypolicy.html\\r\\n \\r\\nContact us: \\r\\nMail: contact@pinsotech.com\\r\\nFacebook: https://www.facebook.com/Filto-304348330178551/\\r\\nWe believe that each of your feedback and opinions will make Filto better!\\r\\n \\r\\nBest regards,\\r\\nFilto Team\"\u001b[39;49;00m,\n",
            "  \u001b[94m\"descriptionHTML\"\u001b[39;49;00m: \u001b[33m\"Best photo/video editor with customized aesthetic sparkle filters &amp; VHS effects which updated weekly. The coolest video &amp; photo editor with multi-style content for creators! It&#39;s the easiest to use on IG and Facebook!<br><br>In Filto, there is a large number of vintage filters, aesthetic sparkle effects,dynamic stickers and other advanced functions. You can trim your video as you need, you are the definition for your creatives! By the way, you can adjust the ratio of your works to match all social media like Instagram, Tik Tok and other social medias, can&#39;t wait to see your post attracting numerous likes!<br><br>\\ud83c\\udf08[Aesthetic FILTERS]<br>GlITCH: Distort your photos and videos in creative ways<br>VHS: Full of the fashion with vintage vibe, let\\u2019s have party in the 80s~<br>BLING: Sparkle effects make you shine like a superstar<br>FILM: Bring you a fantasy visual feast with retro film<br>LIGHT &amp; SHADOW: Colorful your style and be more attractive<br>FILTERS FOR FESTIVAL: From Valentine&#39;s Day, Easter, Halloween to Christmas, We always give you new ideas about your holiday!<br> <br>\\ud83d\\udd25[Swag EFFECTS]<br>FISHEYE: Small lens to accompany you to see the big world.<br>VINTIQUE:Ready for the romantic and sweet vibe? Come \\u2019n Try!<br>TWINKLE:Fairy Lights on winter nights.<br>GLITCH: The most popular glitches, distortions, and punk effects show your fashion attitude.<br>VAPOR WAVE: Strive for creating the coolest vapor tide, feel spellbound in vapor wave.<br>MIRROR &amp; SPLIT: Wanna make your creatives eye-catching? You deserve to try this!<br>WAVE: Best decoration for your highlight moment.<br><br>[Fancy DYNAMIC STICKERS]<br>DYNAMIC EMOJI: Express your mood and attitude with fun.<br>POP ART: Breaking out of mediocrity, enhance your personality in your works.<br>NEON SIGN: Lightning and fancy your ideals.<br>VAPORWAVE: Create aesthetic &amp; special Lo-Fi effects.<br>WREATH: The halo of butterflies and the flower crowns highlight your fancy beauty.<br><br>\\ud83d\\udc8e[EDITING features]<br>TRIM VIDEO: You can trim your video and select the video clip you like best.<br>SIZE CROPPING: Adjust the ratio to any size to share your creatives in Instagram, IGTV, YouTube, Facebook, Twitter, Douyin, etc.<br>HD EXPORT: Exporting HD creatives and no watermark!<br>CUSTOMIZATION: All the filters can be customized, you can adjust each variables to make your shots extraordinary.<br>SCROLLBAR:Find the photos you need in the album more easily.<br>ZOOM BY GESTURES: Adjust the video &amp;photo ratio on canvas as you like, you are the definition for your works.<br>COMPARISON: More obvious effect and more visible change.<br><br>\\ud83c\\udfac[LAYOUTS &amp; BACKGROUNDS]<br>COLOR PALETTE: Provides nearly 50 popular colors for you to choose, which can perfectly match the tones of your edits.<br>BLUR: Make your creating scene structure more harmonious.<br>LAYOUT &amp; SIZE: Adjust the position and crop the video to any ratio you want.<br><br>\\u2728[HD EXPORT &amp; SHARING]<br>HD EXPORT: Professional photo &amp; video editor help you export HD creatives which is clear and undamaged.<br>NO WATERMARK: There is no watermark throughout your editing process, enjoy the free editing here!<br>EASY TO SHARE: Share to all social apps Instagram, IGTV, Facebook, etc. Show your wonderful idea to the world!<br> <br>Terms of use:http://gpmedia.ufile.ucloud.com.cn/filto/termsofuse.html<br>Privacy policy: http://gpmedia.ufile.ucloud.com.cn/filto/privacypolicy.html<br> <br>Contact us: <br>Mail: contact@pinsotech.com<br>Facebook: https://www.facebook.com/Filto-304348330178551/<br>We believe that each of your feedback and opinions will make Filto better!<br> <br>Best regards,<br>Filto Team\"\u001b[39;49;00m,\n",
            "  \u001b[94m\"developer\"\u001b[39;49;00m: \u001b[33m\"Pinso.Inc\"\u001b[39;49;00m,\n",
            "  \u001b[94m\"developerAddress\"\u001b[39;49;00m: \u001b[33m\"Room 1003 10/F Tower 1 LIPPO Centre 89 Queensway Admiralty HK\"\u001b[39;49;00m,\n",
            "  \u001b[94m\"developerEmail\"\u001b[39;49;00m: \u001b[33m\"contact@pinsotech.com\"\u001b[39;49;00m,\n",
            "  \u001b[94m\"developerId\"\u001b[39;49;00m: \u001b[33m\"Pinso.Inc\"\u001b[39;49;00m,\n",
            "  \u001b[94m\"developerWebsite\"\u001b[39;49;00m: \u001b[33m\"http://www.filtoapp.co/\"\u001b[39;49;00m,\n",
            "  \u001b[94m\"free\"\u001b[39;49;00m: \u001b[34mtrue\u001b[39;49;00m,\n",
            "  \u001b[94m\"genre\"\u001b[39;49;00m: \u001b[33m\"Video Players & Editors\"\u001b[39;49;00m,\n",
            "  \u001b[94m\"genreId\"\u001b[39;49;00m: \u001b[33m\"VIDEO_PLAYERS\"\u001b[39;49;00m,\n",
            "  \u001b[94m\"headerImage\"\u001b[39;49;00m: \u001b[33m\"https://play-lh.googleusercontent.com/O3GiYlqNJTcb_8CkePK5eJDMumyOP9EHxGdBi05wsDfkwHSgO_43lUKOSHoGIkqCPRYh\"\u001b[39;49;00m,\n",
            "  \u001b[94m\"histogram\"\u001b[39;49;00m: [\n",
            "    \u001b[34m2743\u001b[39;49;00m,\n",
            "    \u001b[34m293\u001b[39;49;00m,\n",
            "    \u001b[34m211\u001b[39;49;00m,\n",
            "    \u001b[34m211\u001b[39;49;00m,\n",
            "    \u001b[34m13567\u001b[39;49;00m\n",
            "  ],\n",
            "  \u001b[94m\"icon\"\u001b[39;49;00m: \u001b[33m\"https://play-lh.googleusercontent.com/S8CAnPiuo6OQJJqA9LcIq2qSfflqkGaoMexAYLMupk4teCfgqUunqglVQqmb2QZgsTw\"\u001b[39;49;00m,\n",
            "  \u001b[94m\"inAppProductPrice\"\u001b[39;49;00m: \u001b[33m\"$1.99 - $35.99 per item\"\u001b[39;49;00m,\n",
            "  \u001b[94m\"installs\"\u001b[39;49;00m: \u001b[33m\"5,000,000+\"\u001b[39;49;00m,\n",
            "  \u001b[94m\"minInstalls\"\u001b[39;49;00m: \u001b[34m5000000\u001b[39;49;00m,\n",
            "  \u001b[94m\"offersIAP\"\u001b[39;49;00m: \u001b[34mtrue\u001b[39;49;00m,\n",
            "  \u001b[94m\"originalPrice\"\u001b[39;49;00m: \u001b[34mnull\u001b[39;49;00m,\n",
            "  \u001b[94m\"price\"\u001b[39;49;00m: \u001b[34m0\u001b[39;49;00m,\n",
            "  \u001b[94m\"privacyPolicy\"\u001b[39;49;00m: \u001b[33m\"http://gpmedia.ufile.ucloud.com.cn/filto/privacypolicy.html\"\u001b[39;49;00m,\n",
            "  \u001b[94m\"ratings\"\u001b[39;49;00m: \u001b[34m17062\u001b[39;49;00m,\n",
            "  \u001b[94m\"realInstalls\"\u001b[39;49;00m: \u001b[34m5159116\u001b[39;49;00m,\n",
            "  \u001b[94m\"recentChanges\"\u001b[39;49;00m: \u001b[34mnull\u001b[39;49;00m,\n",
            "  \u001b[94m\"recentChangesHTML\"\u001b[39;49;00m: \u001b[34mnull\u001b[39;49;00m,\n",
            "  \u001b[94m\"released\"\u001b[39;49;00m: \u001b[33m\"Dec 2, 2020\"\u001b[39;49;00m,\n",
            "  \u001b[94m\"reviews\"\u001b[39;49;00m: \u001b[34m642\u001b[39;49;00m,\n",
            "  \u001b[94m\"sale\"\u001b[39;49;00m: \u001b[34mfalse\u001b[39;49;00m,\n",
            "  \u001b[94m\"saleText\"\u001b[39;49;00m: \u001b[34mnull\u001b[39;49;00m,\n",
            "  \u001b[94m\"saleTime\"\u001b[39;49;00m: \u001b[34mnull\u001b[39;49;00m,\n",
            "  \u001b[94m\"score\"\u001b[39;49;00m: \u001b[34m4.2652173\u001b[39;49;00m,\n",
            "  \u001b[94m\"screenshots\"\u001b[39;49;00m: [\n",
            "    \u001b[33m\"https://play-lh.googleusercontent.com/4dlxNQUVaZb6fQKn_LCFDvCMg53YdEKfEGnho00K3M_mz0PUW9JDvcGjksVWc2nSqQ\"\u001b[39;49;00m,\n",
            "    \u001b[33m\"https://play-lh.googleusercontent.com/AIlBTLrTsCo97Mz_zfudift5AzzERFN555KVsdOve7zVCkDjE5NN5LZkkuosRmI2YZ8O\"\u001b[39;49;00m,\n",
            "    \u001b[33m\"https://play-lh.googleusercontent.com/veJk7MBKgV4oPFYFpftkO6ru1tGtlg_WkkEnOg3aYfviBYUluXD6Kfgc9B32tzUNQic\"\u001b[39;49;00m,\n",
            "    \u001b[33m\"https://play-lh.googleusercontent.com/J3v8rhtiShGjiZWJ8aG6iiyFooXT0vmC4tOmF-p1rPYkwK4uGu4-R0_c9VTR8eYHDMl4\"\u001b[39;49;00m,\n",
            "    \u001b[33m\"https://play-lh.googleusercontent.com/faNauJsIh179LUlXtA4yUJM3oFQ591bWcEGqT5fNURm-wQhKhFQKShfrKkbAmt2Dn9x5\"\u001b[39;49;00m,\n",
            "    \u001b[33m\"https://play-lh.googleusercontent.com/dQegtcCubBIJoXGvT6LWOqyRSYRbAo2xvkmQv9al5Q3mLNgGw-SOraxVp_E62bZ1PQ\"\u001b[39;49;00m,\n",
            "    \u001b[33m\"https://play-lh.googleusercontent.com/eEqlA08LLV0MIxKN1BVP47QsXX45O5zJooaBkGTR2Iv97Jx7lymkeSCTTw6xFMa-GQ\"\u001b[39;49;00m,\n",
            "    \u001b[33m\"https://play-lh.googleusercontent.com/_f0Qf7BmLr0qK-JqTVQ7vfEwIuGKY_PQqu3ZfeWMEIQbwSPp0ai6u6G1b_EcAF0xSA\"\u001b[39;49;00m,\n",
            "    \u001b[33m\"https://play-lh.googleusercontent.com/tlynTnY2oX8Mwm3tFNm8IaGpvrkcq8sFxTWU8LuQKihmeCCYrpFljI0X4ptMprGsNl8\"\u001b[39;49;00m,\n",
            "    \u001b[33m\"https://play-lh.googleusercontent.com/IGCKSO7ozaWbRAnWjxpyW5d9N_yBbDnyA4hfdPPY_-qxaAeoVLUYXBfExBu-kP_PvL8\"\u001b[39;49;00m,\n",
            "    \u001b[33m\"https://play-lh.googleusercontent.com/FzaCpIngkedt4fBQO5AJf2Vxzmnefhxspkw04XYKUSiFdXATw6V7jjROh6wkRLkz2Kce\"\u001b[39;49;00m,\n",
            "    \u001b[33m\"https://play-lh.googleusercontent.com/e42be3M5WVWOKoAvBHEHQc9P3waETyChoKBOSDbleLsf0ulygxkCvyDEOaAHs5RjPAY\"\u001b[39;49;00m\n",
            "  ],\n",
            "  \u001b[94m\"summary\"\u001b[39;49;00m: \u001b[33m\"Cool video maker with aesthetic filters, VHS effects, stickers, music and fonts.\"\u001b[39;49;00m,\n",
            "  \u001b[94m\"title\"\u001b[39;49;00m: \u001b[33m\"Filto: Video Filter Editor\"\u001b[39;49;00m,\n",
            "  \u001b[94m\"updated\"\u001b[39;49;00m: \u001b[34m1662036661\u001b[39;49;00m,\n",
            "  \u001b[94m\"url\"\u001b[39;49;00m: \u001b[33m\"https://play.google.com/store/apps/details?id=com.video.editor.filto&hl=en&gl=us\"\u001b[39;49;00m,\n",
            "  \u001b[94m\"version\"\u001b[39;49;00m: \u001b[33m\"2.2.3\"\u001b[39;49;00m,\n",
            "  \u001b[94m\"video\"\u001b[39;49;00m: \u001b[34mnull\u001b[39;49;00m,\n",
            "  \u001b[94m\"videoImage\"\u001b[39;49;00m: \u001b[34mnull\u001b[39;49;00m\n",
            "}\n",
            "\n"
          ]
        }
      ]
    },
    {
      "cell_type": "code",
      "source": [
        "app_infos_df = pd.DataFrame(app_infos)\n",
        "app_infos_df.to_csv('apps.csv', index=None, header=True)"
      ],
      "metadata": {
        "id": "AM4adKDiC6MF"
      },
      "execution_count": 25,
      "outputs": []
    },
    {
      "cell_type": "markdown",
      "source": [
        "## Get App Reviews"
      ],
      "metadata": {
        "id": "jF5fZuPuJXam"
      }
    },
    {
      "cell_type": "code",
      "source": [
        "app_reviews = []\n",
        "for ap in tqdm(app_packages):\n",
        "  for score in list(range(1, 6)):\n",
        "    for sort_order in [Sort.MOST_RELEVANT, Sort.NEWEST]:\n",
        "      rvs, _ = reviews(\n",
        "        ap,\n",
        "        lang='en',\n",
        "        country='us',\n",
        "        sort=sort_order,\n",
        "        count= 400 if score == 3 else 200,\n",
        "        filter_score_with=score\n",
        "      )\n",
        "      for r in rvs:\n",
        "        r['sortOrder'] = 'most_relevant' if sort_order == Sort.MOST_RELEVANT else 'newest'\n",
        "        r['appId'] = ap\n",
        "      app_reviews.extend(rvs)"
      ],
      "metadata": {
        "id": "u3zp_ealI7qG",
        "colab": {
          "base_uri": "https://localhost:8080/"
        },
        "outputId": "061bd715-1c8a-458f-8874-872c1f32c138"
      },
      "execution_count": 26,
      "outputs": [
        {
          "output_type": "stream",
          "name": "stderr",
          "text": [
            "100%|██████████| 5/5 [00:19<00:00,  3.90s/it]\n"
          ]
        }
      ]
    },
    {
      "cell_type": "code",
      "source": [
        "print_json(app_reviews[325])"
      ],
      "metadata": {
        "id": "DkxLq_B5I8SD",
        "colab": {
          "base_uri": "https://localhost:8080/"
        },
        "outputId": "c2c86b45-0b3d-4d6f-9506-aec02c711909"
      },
      "execution_count": 27,
      "outputs": [
        {
          "output_type": "stream",
          "name": "stdout",
          "text": [
            "{\n",
            "  \u001b[94m\"appId\"\u001b[39;49;00m: \u001b[33m\"com.video.editor.filto\"\u001b[39;49;00m,\n",
            "  \u001b[94m\"at\"\u001b[39;49;00m: \u001b[33m\"2022-09-16 05:41:44\"\u001b[39;49;00m,\n",
            "  \u001b[94m\"content\"\u001b[39;49;00m: \u001b[33m\"-2 actually. Total lie. Absolutely does not as it show in ad.\"\u001b[39;49;00m,\n",
            "  \u001b[94m\"repliedAt\"\u001b[39;49;00m: \u001b[34mnull\u001b[39;49;00m,\n",
            "  \u001b[94m\"replyContent\"\u001b[39;49;00m: \u001b[34mnull\u001b[39;49;00m,\n",
            "  \u001b[94m\"reviewCreatedVersion\"\u001b[39;49;00m: \u001b[34mnull\u001b[39;49;00m,\n",
            "  \u001b[94m\"reviewId\"\u001b[39;49;00m: \u001b[33m\"14615460-bfb9-4b1e-a449-cd07a4c78b09\"\u001b[39;49;00m,\n",
            "  \u001b[94m\"score\"\u001b[39;49;00m: \u001b[34m1\u001b[39;49;00m,\n",
            "  \u001b[94m\"sortOrder\"\u001b[39;49;00m: \u001b[33m\"newest\"\u001b[39;49;00m,\n",
            "  \u001b[94m\"thumbsUpCount\"\u001b[39;49;00m: \u001b[34m2\u001b[39;49;00m,\n",
            "  \u001b[94m\"userImage\"\u001b[39;49;00m: \u001b[33m\"https://play-lh.googleusercontent.com/a/ALm5wu3ZyrOhN3anWqdM1KeY_GeThMW5e9ZaEvCkPNRv=mo\"\u001b[39;49;00m,\n",
            "  \u001b[94m\"userName\"\u001b[39;49;00m: \u001b[33m\"mit nat\"\u001b[39;49;00m\n",
            "}\n",
            "\n"
          ]
        }
      ]
    },
    {
      "cell_type": "code",
      "source": [
        "app_reviews_df = pd.DataFrame(app_reviews)\n",
        "app_reviews_df.to_csv('top_reviews.csv', index=None, header=True)"
      ],
      "metadata": {
        "id": "nZNIT81oJBqB"
      },
      "execution_count": 28,
      "outputs": []
    },
    {
      "cell_type": "code",
      "source": [],
      "metadata": {
        "id": "oCgZLB7SgPeA"
      },
      "execution_count": 28,
      "outputs": []
    }
  ]
}